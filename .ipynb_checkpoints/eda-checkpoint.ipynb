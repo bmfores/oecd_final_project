{
 "cells": [
  {
   "cell_type": "markdown",
   "id": "6091203c-aa62-4c50-bdc8-2b59cb9d9512",
   "metadata": {},
   "source": [
    "# EXPLORATORY DATA ANALYSIS\n",
    "\n",
    "Make sure that any plot on your report is meaningful in the sense that it affected your decisions regarding your project direction. DO include an explanation of how each plot or meaningful insight you have on your report shapes the project direction. It could affect how you decided to handle specific features, the baseline model you chose, the feature engineering you did, etc. \n",
    "\n",
    "- <u>**Meaningful Insights**</u>: : The EDA report should provide meaningful insights that can be connected back to the problem at hand. These insights should be well-supported by the data and provide actionable recommendations for addressing the problem. You should focus on providing insights that are relevant to the project question and will add value to the final analysis.\n",
    "\n",
    "- <u>**Clean and Labeled Visualization**</u>: Visualization is an important component of EDA and should be clean, labeled, and well-presented. You need to ensure that your visualizations are easy to understand and can be included in their final presentation slides or report. Anyone that reads your EDA should be able to understand what is depicted in the plots just by looking at them.\n",
    "\n",
    "- <u>**Data Description**</u>: You should provide a detailed description of the data for your project. This should include information about the data source, the data collection process, and any preprocessing steps that were taken. Additionally, you should describe the methods you used to explore the data, including initial explorations, data cleaning, and reconciliation.\n",
    "\n",
    "- <u>**Noteworthy Findings**</u>: Summarize the noteworthy findings of their EDA in a clear and concise manner. This can be achieved through the use of visualizations and captions that highlight the most important insights gained through the analysis.\n",
    "\n",
    "- <u>**Project Question**</u>: Based on the insights gained through EDA, you should develop a clear project question that will guide your analysis. This question should be well-defined and specific to the problem at hand.\n",
    "\n",
    "- <u>**Baseline Model or Implementation Plan**</u>: Finally, you should include a baseline model or a clear plan for its implementation. This can include details on the model architecture, the data used for training and validation, and the evaluation metrics used to assess model performance."
   ]
  },
  {
   "cell_type": "code",
   "execution_count": 1,
   "id": "41908c45-7f19-4941-929f-a8ac81eceea8",
   "metadata": {},
   "outputs": [],
   "source": [
    "# Import necessary libraries\n",
    "import seaborn as sns\n",
    "import matplotlib.pyplot as plt\n",
    "import pandas as pd\n",
    "import numpy as np\n",
    "from sklearn.model_selection import train_test_split\n",
    "from sklearn.linear_model import LinearRegression\n",
    "from sklearn.neighbors import KNeighborsRegressor\n",
    "from sklearn.decomposition import PCA\n",
    "from sklearn.model_selection import cross_validate\n",
    "from sklearn.preprocessing import StandardScaler\n",
    "from sklearn.metrics import r2_score"
   ]
  },
  {
   "cell_type": "code",
   "execution_count": 2,
   "id": "8b5ff2b6-ebd5-4a7c-ac2b-a5c2f8acdcc1",
   "metadata": {
    "tags": []
   },
   "outputs": [],
   "source": [
    "df = pd.read_csv('oecd_data.csv')"
   ]
  },
  {
   "cell_type": "markdown",
   "id": "5163b084-f037-41f6-9077-73f5cc25c78a",
   "metadata": {},
   "source": [
    "## Summary of the Data\n",
    "\n",
    "The EDA report should begin with a brief summary of the data. This summary should include information such as the shape of the data, data types, and descriptive statistics such as mean, max, and dtypes. Additionally, you should provide a summary of the features of the data, including histograms, correlation plots, and clustering plots."
   ]
  },
  {
   "cell_type": "code",
   "execution_count": null,
   "id": "4d7c6a3a-a236-4143-a67b-adaed476b30f",
   "metadata": {},
   "outputs": [],
   "source": []
  },
  {
   "cell_type": "markdown",
   "id": "bbdf1a19-7386-48be-9af1-b5d5681b955c",
   "metadata": {
    "tags": []
   },
   "source": [
    "## Deeper Understanding of the Data\n",
    "\n",
    "While basic EDA is important, you should aim to provide a deeper understanding of the data through your analysis. This can be achieved by identifying patterns, trends, class imbalances, and outliers in the data. Additionally, explore the relationships between variables and identify any potential confounding variables that may impact the analysis."
   ]
  },
  {
   "cell_type": "code",
   "execution_count": null,
   "id": "c637cd9c-a0a7-4d4c-a93b-bd78d6240821",
   "metadata": {},
   "outputs": [],
   "source": []
  }
 ],
 "metadata": {
  "kernelspec": {
   "display_name": "Python 3 (ipykernel)",
   "language": "python",
   "name": "python3"
  },
  "language_info": {
   "codemirror_mode": {
    "name": "ipython",
    "version": 3
   },
   "file_extension": ".py",
   "mimetype": "text/x-python",
   "name": "python",
   "nbconvert_exporter": "python",
   "pygments_lexer": "ipython3",
   "version": "3.11.4"
  }
 },
 "nbformat": 4,
 "nbformat_minor": 5
}
