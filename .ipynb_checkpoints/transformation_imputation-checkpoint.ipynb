{
 "cells": [
  {
   "cell_type": "markdown",
   "id": "8a0ca1d2-485b-4db7-b111-b6fc8df0851d",
   "metadata": {
    "tags": []
   },
   "source": [
    "# Imputation and Transformation"
   ]
  },
  {
   "cell_type": "code",
   "execution_count": 1,
   "id": "428c430b-10d0-4f56-939b-e7f37c9ce12a",
   "metadata": {
    "tags": []
   },
   "outputs": [],
   "source": [
    "# Import libraries\n",
    "import seaborn as sns\n",
    "import matplotlib.pyplot as plt\n",
    "import pandas as pd\n",
    "import numpy as np\n",
    "from sklearn.model_selection import train_test_split\n",
    "from sklearn.linear_model import LinearRegression\n",
    "from sklearn.neighbors import KNeighborsRegressor\n",
    "from sklearn.decomposition import PCA\n",
    "from sklearn.model_selection import cross_validate\n",
    "from sklearn.preprocessing import StandardScaler\n",
    "from sklearn.metrics import r2_score\n",
    "from sklearn.impute import SimpleImputer, KNNImputer\n",
    "import warnings\n",
    "warnings.filterwarnings('ignore')"
   ]
  },
  {
   "cell_type": "code",
   "execution_count": 2,
   "id": "65a4c69e-0b89-4f25-bac2-5e887a4cb44f",
   "metadata": {
    "tags": []
   },
   "outputs": [],
   "source": [
    "df = pd.read_csv('oecd_data.csv')"
   ]
  },
  {
   "cell_type": "markdown",
   "id": "56b5b015-f84b-4b63-a9bf-bce198ad04a7",
   "metadata": {},
   "source": [
    "## Missingness and Imputation\n",
    "\n",
    "Here, I impute with kNN imputation, by using one-hot encoding of countries"
   ]
  },
  {
   "cell_type": "code",
   "execution_count": 3,
   "id": "a581eadc-06ba-4e46-b5d4-2937a611f929",
   "metadata": {},
   "outputs": [],
   "source": [
    "# Encode categorical variables (Country), using one-hot encoding\n",
    "# df_dummy = pd.get_dummies(df, columns=['iso3'], drop_first=True)"
   ]
  },
  {
   "cell_type": "code",
   "execution_count": 4,
   "id": "5269b7cc-4f52-42af-9b2e-e6818ec78ec8",
   "metadata": {
    "tags": []
   },
   "outputs": [],
   "source": [
    "# separate oecd predictors from response (life expectancy)\n",
    "columns_to_drop = ['cpi', 'education_exp', 'public_health_exp', 'wages_exp', 'pensions_exp', 'sickness_disability_exp', 'unemployment_exp', 'family_children_exp']\n",
    "df_to_impute = df.drop(columns=columns_to_drop)"
   ]
  },
  {
   "cell_type": "code",
   "execution_count": 5,
   "id": "388875c6-8a39-4136-b9cb-5fa70819f3fc",
   "metadata": {
    "tags": []
   },
   "outputs": [],
   "source": [
    "# check data for missingness\n",
    "n_rows_with_missingness = df.isna().any(axis=1).sum()\n",
    "n_cols_with_missingness = df.isna().any(axis=0).sum()\n",
    "\n",
    "col_missingness = df_to_impute.isna().sum()"
   ]
  },
  {
   "cell_type": "code",
   "execution_count": 6,
   "id": "026f3a1a-fdd4-4136-a715-3d774b73d360",
   "metadata": {
    "tags": []
   },
   "outputs": [
    {
     "name": "stdout",
     "output_type": "stream",
     "text": [
      "# rows with missingness: 1241\n",
      "# columns with missingness: 24\n",
      "\n",
      "columns with missingness:\n",
      "country                       0\n",
      "region                        0\n",
      "health_exp_pct_gdp          100\n",
      "continent                     0\n",
      "iso3                          0\n",
      "year                          0\n",
      "gdp_per_capita               20\n",
      "gdp                          22\n",
      "gdpv                         24\n",
      "total_population              0\n",
      "alcohol_consume              30\n",
      "fruit_supply                 73\n",
      "obese_pop_measured         1083\n",
      "overweight_pop_measured    1083\n",
      "sugar_supply                 73\n",
      "tobacco_consumption         563\n",
      "total_calories_supply        73\n",
      "total_fat_supply             73\n",
      "total_protein_supply         73\n",
      "vape_pop_15_over           1134\n",
      "veggie_supply                73\n",
      "life_expectancy              15\n",
      "dtype: int64\n"
     ]
    }
   ],
   "source": [
    "# display your results with this code\n",
    "print('# rows with missingness:', n_rows_with_missingness)\n",
    "print('# columns with missingness:', n_cols_with_missingness)\n",
    "print(f'\\ncolumns with missingness:\\n{col_missingness}')"
   ]
  },
  {
   "cell_type": "code",
   "execution_count": 7,
   "id": "19ea93cd-49d3-413e-be37-aa51ef32cb14",
   "metadata": {
    "tags": []
   },
   "outputs": [],
   "source": [
    "variables_to_impute = [\n",
    "    'life_expectancy',\n",
    "    'alcohol_consume',\n",
    "    'fruit_supply',\n",
    "    'obese_pop_measured',\n",
    "    'overweight_pop_measured',\n",
    "    'sugar_supply',\n",
    "    'tobacco_consumption',\n",
    "    'total_calories_supply',\n",
    "    'total_fat_supply',\n",
    "    'total_protein_supply',\n",
    "    'vape_pop_15_over',\n",
    "    'veggie_supply'\n",
    "]"
   ]
  },
  {
   "cell_type": "code",
   "execution_count": 8,
   "id": "3b11259e-7a43-4796-a7e0-38953ad2ab4e",
   "metadata": {
    "tags": []
   },
   "outputs": [],
   "source": [
    "df_to_impute = df_to_impute.sort_values(by=['country', 'year'])\n",
    "\n",
    "# Loop through each country\n",
    "for country in df_to_impute['country'].unique():\n",
    "    # Filter the DataFrame for the current country\n",
    "    country_df = df_to_impute[df_to_impute['country'] == country]\n",
    "\n",
    "    # PLACEHOLDER: must consider more robust imputation methods\n",
    "    for variable in variables_to_impute:\n",
    "        # Interpolate missing values for each specified variable\n",
    "        country_df[variable] = country_df[variable].interpolate(method='linear')\n",
    "        # Apply LOCF\n",
    "        country_df[variable].fillna(method='ffill', inplace=True)\n",
    "\n",
    "        # Apply NOCB\n",
    "        country_df[variable].fillna(method='bfill', inplace=True)\n",
    "\n",
    "    # Update the original DataFrame with the interpolated, front-filled, and back-filled values\n",
    "    df_to_impute.update(country_df)\n",
    "\n",
    "df.update(df_to_impute)\n",
    "\n",
    "df.to_csv('oecd_data.csv', index=False)"
   ]
  },
  {
   "cell_type": "code",
   "execution_count": null,
   "id": "15bc2675-c692-4e29-a1b0-fbd9322337fe",
   "metadata": {},
   "outputs": [],
   "source": []
  },
  {
   "cell_type": "markdown",
   "id": "48ab1654-7548-4901-a61a-ad6cac7e5a85",
   "metadata": {},
   "source": [
    "# IGNORE"
   ]
  },
  {
   "cell_type": "code",
   "execution_count": 9,
   "id": "944b355e-d086-4554-9880-bb83d15a43de",
   "metadata": {
    "tags": []
   },
   "outputs": [],
   "source": [
    "# Save CSV\n",
    "df.to_csv('oecd_data.csv', index=False)"
   ]
  }
 ],
 "metadata": {
  "kernelspec": {
   "display_name": "Python 3 (ipykernel)",
   "language": "python",
   "name": "python3"
  },
  "language_info": {
   "codemirror_mode": {
    "name": "ipython",
    "version": 3
   },
   "file_extension": ".py",
   "mimetype": "text/x-python",
   "name": "python",
   "nbconvert_exporter": "python",
   "pygments_lexer": "ipython3",
   "version": "3.11.4"
  }
 },
 "nbformat": 4,
 "nbformat_minor": 5
}
