{
 "cells": [
  {
   "cell_type": "markdown",
   "id": "8a0ca1d2-485b-4db7-b111-b6fc8df0851d",
   "metadata": {
    "tags": []
   },
   "source": [
    "# Imputation and Transformation"
   ]
  },
  {
   "cell_type": "code",
   "execution_count": 1,
   "id": "428c430b-10d0-4f56-939b-e7f37c9ce12a",
   "metadata": {
    "tags": []
   },
   "outputs": [],
   "source": [
    "# Import libraries\n",
    "import seaborn as sns\n",
    "import matplotlib.pyplot as plt\n",
    "import pandas as pd\n",
    "import numpy as np\n",
    "from sklearn.model_selection import train_test_split\n",
    "from sklearn.linear_model import LinearRegression\n",
    "from sklearn.neighbors import KNeighborsRegressor\n",
    "from sklearn.decomposition import PCA\n",
    "from sklearn.model_selection import cross_validate\n",
    "from sklearn.preprocessing import StandardScaler\n",
    "from sklearn.metrics import r2_score\n",
    "from sklearn.impute import SimpleImputer, KNNImputer\n",
    "import warnings\n",
    "warnings.filterwarnings('ignore')"
   ]
  },
  {
   "cell_type": "code",
   "execution_count": 2,
   "id": "65a4c69e-0b89-4f25-bac2-5e887a4cb44f",
   "metadata": {
    "tags": []
   },
   "outputs": [],
   "source": [
    "df = pd.read_csv('oecd_data.csv')"
   ]
  },
  {
   "cell_type": "markdown",
   "id": "56b5b015-f84b-4b63-a9bf-bce198ad04a7",
   "metadata": {},
   "source": [
    "## Missingness and Imputation\n",
    "\n",
    "Here, I impute with kNN imputation, by using one-hot encoding of countries"
   ]
  },
  {
   "cell_type": "markdown",
   "id": "1e310a83-3b66-4fad-9600-028ea83be72b",
   "metadata": {},
   "source": [
    "### Delete Countries with a lot of missing data\n",
    "\n",
    "Some of them have a ton of missing public expenditure data."
   ]
  },
  {
   "cell_type": "code",
   "execution_count": 3,
   "id": "a5e08205-1f6e-4c45-9c95-d405e9bbb7e7",
   "metadata": {},
   "outputs": [],
   "source": [
    "# Assuming your DataFrame is named 'df'\n",
    "countries_to_remove = ['Turkey', 'New Zealand', 'Mexico', 'Japan', 'Costa Rica', 'Colombia', 'Chile', 'Canada']\n",
    "df = df[~df['country'].isin(countries_to_remove)]"
   ]
  },
  {
   "cell_type": "markdown",
   "id": "4b535dcd-f7aa-4bd6-9608-e6f8f6b70bb9",
   "metadata": {},
   "source": [
    "## Remove raw public finance columns"
   ]
  },
  {
   "cell_type": "code",
   "execution_count": 4,
   "id": "72f0738b-f560-42a3-b51a-7e9d93336066",
   "metadata": {},
   "outputs": [],
   "source": [
    "columns_to_remove = [\n",
    "    'public_health_exp', 'wages_exp', 'pensions_exp', 'sickness_disability_exp',\n",
    "    'unemployment_exp', 'family_children_exp', 'subsidies_exp', 'public_investment_exp',\n",
    "    'personal_income_tax', 'property_income', 'social_security_contrib',\n",
    "    'corporate_income_tax', 'environmental_tax', 'other_consumption_tax',\n",
    "    'immovable_property_tax', 'other_property_tax', 'sales_goods_services',\n",
    "    'other_nonproperty_tax', 'obese_pop_measured', 'overweight_pop_measured',\n",
    "    'education_exp', 'other_primary_exp', 'property_income_exp'\n",
    "]\n",
    "\n",
    "df = df.drop(columns=columns_to_remove)\n",
    "\n",
    "df_to_impute = df"
   ]
  },
  {
   "cell_type": "code",
   "execution_count": 5,
   "id": "388875c6-8a39-4136-b9cb-5fa70819f3fc",
   "metadata": {
    "tags": []
   },
   "outputs": [],
   "source": [
    "# check data for missingness\n",
    "n_rows_with_missingness = df.isna().any(axis=1).sum()\n",
    "n_cols_with_missingness = df.isna().any(axis=0).sum()\n",
    "\n",
    "col_missingness = df_to_impute.isna().sum()"
   ]
  },
  {
   "cell_type": "code",
   "execution_count": 6,
   "id": "026f3a1a-fdd4-4136-a715-3d774b73d360",
   "metadata": {
    "tags": []
   },
   "outputs": [
    {
     "name": "stdout",
     "output_type": "stream",
     "text": [
      "# rows with missingness: 873\n",
      "# columns with missingness: 43\n"
     ]
    }
   ],
   "source": [
    "# display your results with this code\n",
    "print('# rows with missingness:', n_rows_with_missingness)\n",
    "print('# columns with missingness:', n_cols_with_missingness)\n",
    "#print(f'\\ncolumns with missingness:\\n{col_missingness}')"
   ]
  },
  {
   "cell_type": "code",
   "execution_count": 7,
   "id": "19ea93cd-49d3-413e-be37-aa51ef32cb14",
   "metadata": {
    "tags": []
   },
   "outputs": [],
   "source": [
    "variables_to_impute = [\n",
    "    'life_expectancy',\n",
    "    'alcohol_consume',\n",
    "    'fruit_supply',\n",
    "    #'obese_pop_measured',\n",
    "    #'overweight_pop_measured',\n",
    "    'sugar_supply',\n",
    "    'tobacco_consumption',\n",
    "    'total_calories_supply',\n",
    "    'total_fat_supply',\n",
    "    'total_protein_supply',\n",
    "    #'vape_pop_15_over',\n",
    "    'veggie_supply'\n",
    "]"
   ]
  },
  {
   "cell_type": "markdown",
   "id": "b602fbc5-0ca0-458d-96d1-733bef3c92e3",
   "metadata": {},
   "source": [
    "## Simple Imputation Methods"
   ]
  },
  {
   "cell_type": "code",
   "execution_count": 8,
   "id": "3b11259e-7a43-4796-a7e0-38953ad2ab4e",
   "metadata": {
    "tags": []
   },
   "outputs": [],
   "source": [
    "df_to_impute = df.sort_values(by=['country', 'year'])\n",
    "\n",
    "# Loop through each country\n",
    "for country in df_to_impute['country'].unique():\n",
    "    # Filter the DataFrame for the current country\n",
    "    country_df = df_to_impute[df_to_impute['country'] == country]\n",
    "\n",
    "    # PLACEHOLDER: must consider more robust imputation methods\n",
    "    for variable in variables_to_impute:\n",
    "        # Interpolate missing values for each specified variable\n",
    "        country_df[variable] = country_df[variable].interpolate(method='linear')\n",
    "        # Apply LOCF\n",
    "        country_df[variable].fillna(method='ffill', inplace=True)\n",
    "\n",
    "        # Apply NOCB\n",
    "        country_df[variable].fillna(method='bfill', inplace=True)\n",
    "\n",
    "    # Update the original DataFrame with the interpolated, front-filled, and back-filled values\n",
    "    df_to_impute.update(country_df)\n",
    "\n",
    "df.update(df_to_impute)"
   ]
  },
  {
   "cell_type": "markdown",
   "id": "7b7d0f9e-8747-4b83-a4e4-4752e366d547",
   "metadata": {},
   "source": [
    "## kNN Imputation"
   ]
  },
  {
   "cell_type": "code",
   "execution_count": 9,
   "id": "52820798-bc0f-4085-af7f-0c4c7635caa8",
   "metadata": {
    "tags": []
   },
   "outputs": [],
   "source": [
    "# Create a KNN imputer instance\n",
    "imputer = KNNImputer(n_neighbors=5)\n",
    "\n",
    "# Select columns to impute\n",
    "columns_to_impute = [\n",
    "    'health_exp_pct_gdp', 'gdp_per_capita', 'gdp', 'gdp_volume_market_prices',\n",
    "    'exchange_rate_usd', 'total_economy_output_gap', 'gov_net_lending_gdp_percentage',\n",
    "    'gov_net_lending_adj_gdp_percentage', 'current_disbursements_gen_gov', 'cyclically_adj_current_disbursements_gen_gov',\n",
    "    #'current_receipts_gen_gov', 'cyclically_adj_current_receipts_gen_gov', 'gross_public_debt_maastricht_value', \n",
    "    'education_exp_pct_gdp', 'public_health_exp_pct_gdp',\n",
    "    'wages_exp_pct_gdp', 'pensions_exp_pct_gdp', 'sickness_disability_exp_pct_gdp',\n",
    "    'unemployment_exp_pct_gdp', 'family_children_exp_pct_gdp', 'subsidies_exp_pct_gdp',\n",
    "    'public_investment_exp_pct_gdp', 'other_primary_exp_pct_gdp',\n",
    "    'property_income_exp_pct_gdp', 'personal_income_tax_pct_gdp',\n",
    "    'social_security_contrib_pct_gdp', 'corporate_income_tax_pct_gdp',\n",
    "    'environmental_tax_pct_gdp', 'other_consumption_tax_pct_gdp',\n",
    "    'immovable_property_tax_pct_gdp', 'other_property_tax_pct_gdp',\n",
    "    'sales_goods_services_pct_gdp', 'other_nonproperty_tax_pct_gdp', 'property_income_pct_gdp',\n",
    "    'total_expenditure', 'total_revenue', 'total_expense_pct_gdp', 'total_revenue_pct_gdp',\n",
    "    'life_expectancy_outcome_3', 'life_expectancy_outcome_5'\n",
    "]\n",
    "\n",
    "# Create an empty DataFrame to store the results\n",
    "df_imputed = pd.DataFrame()\n",
    "\n",
    "for country in df['iso3'].unique():\n",
    "    # Select data for the current country\n",
    "    country_data = df[df['iso3'] == country]\n",
    "\n",
    "    # Separate the data into columns to impute and columns to retain\n",
    "    to_impute = country_data[columns_to_impute]\n",
    "    to_retain = country_data.drop(columns_to_impute, axis=1)\n",
    "\n",
    "    # Impute the data\n",
    "    imputed_values = imputer.fit_transform(to_impute)\n",
    "    imputed_df = pd.DataFrame(imputed_values, columns=to_impute.columns, index=to_impute.index)\n",
    "\n",
    "    # Combine imputed and non-imputed data\n",
    "    combined_df = pd.concat([to_retain, imputed_df], axis=1)\n",
    "\n",
    "    # Reorder columns to match the original DataFrame's structure\n",
    "    combined_df = combined_df[df.columns]\n",
    "\n",
    "    # Append to the final DataFrame\n",
    "    df_imputed = pd.concat([df_imputed, combined_df])\n",
    "\n",
    "# Replace the original DataFrame with the imputed DataFrame\n",
    "df = df_imputed"
   ]
  },
  {
   "cell_type": "markdown",
   "id": "d662fe26-1309-479b-82af-1002900b5202",
   "metadata": {},
   "source": [
    "# Standardization/Normalization"
   ]
  },
  {
   "cell_type": "code",
   "execution_count": null,
   "id": "910de37e-2599-4015-a3dd-d47cf3361c3f",
   "metadata": {},
   "outputs": [],
   "source": []
  },
  {
   "cell_type": "markdown",
   "id": "48ab1654-7548-4901-a61a-ad6cac7e5a85",
   "metadata": {},
   "source": [
    "# IGNORE"
   ]
  },
  {
   "cell_type": "code",
   "execution_count": 12,
   "id": "944b355e-d086-4554-9880-bb83d15a43de",
   "metadata": {
    "tags": []
   },
   "outputs": [],
   "source": [
    "# Save CSV\n",
    "df.to_csv('oecd_data_cleaned.csv', index=False)"
   ]
  },
  {
   "cell_type": "code",
   "execution_count": null,
   "id": "9cba1bbf-c55f-4070-861d-99efc163e6f1",
   "metadata": {},
   "outputs": [],
   "source": [
    "# decide here what variables to remove before modeling"
   ]
  }
 ],
 "metadata": {
  "kernelspec": {
   "display_name": "Python 3 (ipykernel)",
   "language": "python",
   "name": "python3"
  },
  "language_info": {
   "codemirror_mode": {
    "name": "ipython",
    "version": 3
   },
   "file_extension": ".py",
   "mimetype": "text/x-python",
   "name": "python",
   "nbconvert_exporter": "python",
   "pygments_lexer": "ipython3",
   "version": "3.11.4"
  }
 },
 "nbformat": 4,
 "nbformat_minor": 5
}
