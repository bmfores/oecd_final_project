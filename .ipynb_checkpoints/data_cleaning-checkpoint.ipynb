{
 "cells": [
  {
   "cell_type": "code",
   "execution_count": 1,
   "id": "5bd0d782-883e-429b-a865-bcc47bcc585a",
   "metadata": {
    "tags": []
   },
   "outputs": [],
   "source": [
    "import pandas as pd"
   ]
  },
  {
   "cell_type": "markdown",
   "id": "8299746a-ad12-4a92-a3da-c18554e332c0",
   "metadata": {},
   "source": [
    "# Dataset Merging\n",
    "\n",
    "Here we will aggregate various datasets from OECD database."
   ]
  },
  {
   "cell_type": "code",
   "execution_count": 2,
   "id": "66951369-1cd8-46db-8e3a-1984ae39d011",
   "metadata": {
    "tags": []
   },
   "outputs": [],
   "source": [
    "# read public finance dataset, use this as the base dataframe\n",
    "base_df = pd.read_csv('data/public_finance.csv')"
   ]
  },
  {
   "cell_type": "markdown",
   "id": "d70f6845-b152-4585-878d-d304d1f1de25",
   "metadata": {},
   "source": [
    "# Merge Population Data"
   ]
  },
  {
   "cell_type": "code",
   "execution_count": 3,
   "id": "1f491005-af1c-4059-9ee2-5c2ec432aa02",
   "metadata": {
    "tags": []
   },
   "outputs": [],
   "source": [
    "# read population csv to dataframe\n",
    "pop_df = pd.read_csv('data/population.csv')\n",
    "\n",
    "# rename columns\n",
    "pop_df.rename(columns={'LOCATION': 'iso3', 'Time': 'year', 'Value': 'total_population'}, inplace=True)"
   ]
  },
  {
   "cell_type": "code",
   "execution_count": 4,
   "id": "08d1731c-81a7-4b2e-83f0-27798a4331e7",
   "metadata": {
    "tags": []
   },
   "outputs": [],
   "source": [
    "# merge\n",
    "base_df = base_df.merge(pop_df[['iso3', 'year', 'total_population']], on=['iso3', 'year'], how='left')"
   ]
  },
  {
   "cell_type": "markdown",
   "id": "295a02da-81cd-4671-93ba-45ee4306ac11",
   "metadata": {},
   "source": [
    "## Pivot and Merge Nonhealth Predictors"
   ]
  },
  {
   "cell_type": "code",
   "execution_count": 5,
   "id": "095549a3-dd5b-47f9-add5-3bc3a235ae42",
   "metadata": {
    "tags": []
   },
   "outputs": [],
   "source": [
    "#read dataframe\n",
    "nonhealth_df = pd.read_csv('data/nonhealth_predictors.csv')\n",
    "\n",
    "# Pivot method\n",
    "pivot_nonhealth_df = nonhealth_df.pivot(index=['COU', 'Year'], columns='Variable', values='Value').reset_index()\n",
    "\n",
    "# If you want to have a flat DataFrame without a MultiIndex in the columns\n",
    "pivot_nonhealth_df.columns.name = None  # Remove the categories name\n",
    "pivot_nonhealth_df = pivot_nonhealth_df.reset_index()  # To flatten the DataFrame"
   ]
  },
  {
   "cell_type": "code",
   "execution_count": 6,
   "id": "04cc72b0-c657-44a2-811a-b348654208db",
   "metadata": {
    "tags": []
   },
   "outputs": [],
   "source": [
    "# rename columns\n",
    "# Create a dictionary of old and new column names\n",
    "rename_dict = {\n",
    "    'COU': 'iso3',\n",
    "    'Year': 'year',\n",
    "    'Alcohol consumption': 'alcohol_consume',\n",
    "    'Fruits supply': 'fruit_supply',\n",
    "    'Obese population, measured': 'obese_pop_measured',\n",
    "    'Overweight population, measured': 'overweight_pop_measured',\n",
    "    'Sugar supply': 'sugar_supply',\n",
    "    'Tobacco consumption': 'tobacco_consumption',\n",
    "    'Total calories supply': 'total_calories_supply',\n",
    "    'Total fat supply': 'total_fat_supply',\n",
    "    'Total protein supply': 'total_protein_supply',\n",
    "    'Vaping population: e-cigarettes use, adults (aged 15+)': 'vape_pop_15_over',\n",
    "    'Vegetables supply': 'veggie_supply'\n",
    "}\n",
    "\n",
    "# rename\n",
    "pivot_nonhealth_df.rename(columns=rename_dict, inplace=True)"
   ]
  },
  {
   "cell_type": "code",
   "execution_count": 7,
   "id": "868fdee8-163a-49a7-b6b8-89c4563c1df2",
   "metadata": {
    "tags": []
   },
   "outputs": [],
   "source": [
    "# drop index column\n",
    "pivot_nonhealth_df.drop(pivot_nonhealth_df.columns[[0]], axis=1, inplace=True)"
   ]
  },
  {
   "cell_type": "code",
   "execution_count": 8,
   "id": "59111362-8a75-43e2-9635-2f9a1ef9d342",
   "metadata": {
    "tags": []
   },
   "outputs": [],
   "source": [
    "# Merge pivoted nonhealth df to base_df\n",
    "base_df = base_df.merge(pivot_nonhealth_df, on=['iso3', 'year'], how='left')"
   ]
  },
  {
   "cell_type": "markdown",
   "id": "a3dac30e-012a-4f74-abb4-ab54cb5e668d",
   "metadata": {},
   "source": [
    "## Merge Life Expectancy Data"
   ]
  },
  {
   "cell_type": "code",
   "execution_count": 9,
   "id": "4e1ea0d1-e9be-4134-9511-16ceea8c6007",
   "metadata": {
    "tags": []
   },
   "outputs": [],
   "source": [
    "# read life expectancy csv to dataframe\n",
    "lifeexp_df = pd.read_csv('data/life_expectancy.csv')\n",
    "\n",
    "# rename columns\n",
    "lifeexp_df.rename(columns={'COU': 'iso3', 'Year': 'year', 'Value': 'life_expectancy'}, inplace=True)"
   ]
  },
  {
   "cell_type": "code",
   "execution_count": 10,
   "id": "57055495-8f4f-42a7-a388-c8e7ea1681a1",
   "metadata": {
    "tags": []
   },
   "outputs": [],
   "source": [
    "# merge\n",
    "base_df = base_df.merge(lifeexp_df[['iso3', 'year', 'life_expectancy']], on=['iso3', 'year'], how='left')"
   ]
  },
  {
   "cell_type": "markdown",
   "id": "27c2826b-e059-404e-95fb-10b14cbf4e92",
   "metadata": {},
   "source": [
    "## Merge Health Expenditures Data"
   ]
  },
  {
   "cell_type": "code",
   "execution_count": 11,
   "id": "4b12d93d-0aa4-4b94-a801-a5a7eca4bad4",
   "metadata": {
    "tags": []
   },
   "outputs": [],
   "source": [
    "# read health expenditure csv to dataframe\n",
    "healthexp_df = pd.read_csv('data/health_expenditures.csv')\n",
    "\n",
    "# rename columns\n",
    "healthexp_df.rename(columns={'LOCATION': 'iso3', 'Year': 'year', 'Value': 'health_exp_pct_gdp'}, inplace=True)"
   ]
  },
  {
   "cell_type": "code",
   "execution_count": 12,
   "id": "c0b7512f-05c1-4de7-9fd6-beb2aff4a3ee",
   "metadata": {
    "tags": []
   },
   "outputs": [],
   "source": [
    "# merge\n",
    "base_df = base_df.merge(healthexp_df[['iso3', 'year', 'health_exp_pct_gdp']], on=['iso3', 'year'], how='left')"
   ]
  },
  {
   "cell_type": "markdown",
   "id": "54b990ae-5b54-453d-a2d7-8bcd0cdc3e06",
   "metadata": {},
   "source": [
    "## Merge GDP Per Capital Data"
   ]
  },
  {
   "cell_type": "code",
   "execution_count": 13,
   "id": "0b16aeae-7da3-478d-bc25-27b184507423",
   "metadata": {
    "tags": []
   },
   "outputs": [],
   "source": [
    "# read health expenditure csv to dataframe\n",
    "gdp_df = pd.read_csv('data/gdp_per_capita.csv')\n",
    "\n",
    "# rename columns\n",
    "gdp_df.rename(columns={'COU': 'iso3', 'Year': 'year', 'Value': 'gdp_per_capita'}, inplace=True)"
   ]
  },
  {
   "cell_type": "code",
   "execution_count": 14,
   "id": "c98ab2dc-9c24-43a7-ade8-9f6de0860740",
   "metadata": {
    "tags": []
   },
   "outputs": [],
   "source": [
    "# merge\n",
    "base_df = base_df.merge(gdp_df[['iso3', 'year', 'gdp_per_capita']], on=['iso3', 'year'], how='left')"
   ]
  },
  {
   "cell_type": "markdown",
   "id": "ef963fed-0813-4af6-afa5-3209c9f89ee3",
   "metadata": {},
   "source": [
    "### Save Fully Merged Dataframe"
   ]
  },
  {
   "cell_type": "code",
   "execution_count": 15,
   "id": "578ce088-e77b-4f37-b773-57f32057daa8",
   "metadata": {
    "tags": []
   },
   "outputs": [
    {
     "data": {
      "text/html": [
       "<div>\n",
       "<style scoped>\n",
       "    .dataframe tbody tr th:only-of-type {\n",
       "        vertical-align: middle;\n",
       "    }\n",
       "\n",
       "    .dataframe tbody tr th {\n",
       "        vertical-align: top;\n",
       "    }\n",
       "\n",
       "    .dataframe thead th {\n",
       "        text-align: right;\n",
       "    }\n",
       "</style>\n",
       "<table border=\"1\" class=\"dataframe\">\n",
       "  <thead>\n",
       "    <tr style=\"text-align: right;\">\n",
       "      <th></th>\n",
       "      <th>iso3</th>\n",
       "      <th>year</th>\n",
       "      <th>expitem1</th>\n",
       "      <th>expitem10</th>\n",
       "      <th>expitem11</th>\n",
       "      <th>expitem2</th>\n",
       "      <th>expitem3</th>\n",
       "      <th>expitem4</th>\n",
       "      <th>expitem5</th>\n",
       "      <th>expitem6</th>\n",
       "      <th>...</th>\n",
       "      <th>sugar_supply</th>\n",
       "      <th>tobacco_consumption</th>\n",
       "      <th>total_calories_supply</th>\n",
       "      <th>total_fat_supply</th>\n",
       "      <th>total_protein_supply</th>\n",
       "      <th>vape_pop_15_over</th>\n",
       "      <th>veggie_supply</th>\n",
       "      <th>life_expectancy</th>\n",
       "      <th>health_exp_pct_gdp</th>\n",
       "      <th>gdp_per_capita</th>\n",
       "    </tr>\n",
       "  </thead>\n",
       "  <tbody>\n",
       "    <tr>\n",
       "      <th>0</th>\n",
       "      <td>AUS</td>\n",
       "      <td>1945</td>\n",
       "      <td>NaN</td>\n",
       "      <td>NaN</td>\n",
       "      <td>NaN</td>\n",
       "      <td>NaN</td>\n",
       "      <td>NaN</td>\n",
       "      <td>NaN</td>\n",
       "      <td>NaN</td>\n",
       "      <td>NaN</td>\n",
       "      <td>...</td>\n",
       "      <td>NaN</td>\n",
       "      <td>NaN</td>\n",
       "      <td>NaN</td>\n",
       "      <td>NaN</td>\n",
       "      <td>NaN</td>\n",
       "      <td>NaN</td>\n",
       "      <td>NaN</td>\n",
       "      <td>NaN</td>\n",
       "      <td>NaN</td>\n",
       "      <td>NaN</td>\n",
       "    </tr>\n",
       "    <tr>\n",
       "      <th>1</th>\n",
       "      <td>AUS</td>\n",
       "      <td>1946</td>\n",
       "      <td>NaN</td>\n",
       "      <td>NaN</td>\n",
       "      <td>NaN</td>\n",
       "      <td>NaN</td>\n",
       "      <td>NaN</td>\n",
       "      <td>NaN</td>\n",
       "      <td>NaN</td>\n",
       "      <td>NaN</td>\n",
       "      <td>...</td>\n",
       "      <td>NaN</td>\n",
       "      <td>NaN</td>\n",
       "      <td>NaN</td>\n",
       "      <td>NaN</td>\n",
       "      <td>NaN</td>\n",
       "      <td>NaN</td>\n",
       "      <td>NaN</td>\n",
       "      <td>NaN</td>\n",
       "      <td>NaN</td>\n",
       "      <td>NaN</td>\n",
       "    </tr>\n",
       "    <tr>\n",
       "      <th>2</th>\n",
       "      <td>AUS</td>\n",
       "      <td>1947</td>\n",
       "      <td>NaN</td>\n",
       "      <td>NaN</td>\n",
       "      <td>NaN</td>\n",
       "      <td>NaN</td>\n",
       "      <td>NaN</td>\n",
       "      <td>NaN</td>\n",
       "      <td>NaN</td>\n",
       "      <td>NaN</td>\n",
       "      <td>...</td>\n",
       "      <td>NaN</td>\n",
       "      <td>NaN</td>\n",
       "      <td>NaN</td>\n",
       "      <td>NaN</td>\n",
       "      <td>NaN</td>\n",
       "      <td>NaN</td>\n",
       "      <td>NaN</td>\n",
       "      <td>NaN</td>\n",
       "      <td>NaN</td>\n",
       "      <td>NaN</td>\n",
       "    </tr>\n",
       "    <tr>\n",
       "      <th>3</th>\n",
       "      <td>AUS</td>\n",
       "      <td>1948</td>\n",
       "      <td>NaN</td>\n",
       "      <td>NaN</td>\n",
       "      <td>NaN</td>\n",
       "      <td>NaN</td>\n",
       "      <td>NaN</td>\n",
       "      <td>NaN</td>\n",
       "      <td>NaN</td>\n",
       "      <td>NaN</td>\n",
       "      <td>...</td>\n",
       "      <td>NaN</td>\n",
       "      <td>NaN</td>\n",
       "      <td>NaN</td>\n",
       "      <td>NaN</td>\n",
       "      <td>NaN</td>\n",
       "      <td>NaN</td>\n",
       "      <td>NaN</td>\n",
       "      <td>NaN</td>\n",
       "      <td>NaN</td>\n",
       "      <td>NaN</td>\n",
       "    </tr>\n",
       "    <tr>\n",
       "      <th>4</th>\n",
       "      <td>AUS</td>\n",
       "      <td>1949</td>\n",
       "      <td>NaN</td>\n",
       "      <td>NaN</td>\n",
       "      <td>NaN</td>\n",
       "      <td>NaN</td>\n",
       "      <td>NaN</td>\n",
       "      <td>NaN</td>\n",
       "      <td>NaN</td>\n",
       "      <td>NaN</td>\n",
       "      <td>...</td>\n",
       "      <td>NaN</td>\n",
       "      <td>NaN</td>\n",
       "      <td>NaN</td>\n",
       "      <td>NaN</td>\n",
       "      <td>NaN</td>\n",
       "      <td>NaN</td>\n",
       "      <td>NaN</td>\n",
       "      <td>NaN</td>\n",
       "      <td>NaN</td>\n",
       "      <td>NaN</td>\n",
       "    </tr>\n",
       "  </tbody>\n",
       "</table>\n",
       "<p>5 rows × 50 columns</p>\n",
       "</div>"
      ],
      "text/plain": [
       "  iso3  year  expitem1  expitem10  expitem11  expitem2  expitem3  expitem4  \\\n",
       "0  AUS  1945       NaN        NaN        NaN       NaN       NaN       NaN   \n",
       "1  AUS  1946       NaN        NaN        NaN       NaN       NaN       NaN   \n",
       "2  AUS  1947       NaN        NaN        NaN       NaN       NaN       NaN   \n",
       "3  AUS  1948       NaN        NaN        NaN       NaN       NaN       NaN   \n",
       "4  AUS  1949       NaN        NaN        NaN       NaN       NaN       NaN   \n",
       "\n",
       "   expitem5  expitem6  ...  sugar_supply  tobacco_consumption  \\\n",
       "0       NaN       NaN  ...           NaN                  NaN   \n",
       "1       NaN       NaN  ...           NaN                  NaN   \n",
       "2       NaN       NaN  ...           NaN                  NaN   \n",
       "3       NaN       NaN  ...           NaN                  NaN   \n",
       "4       NaN       NaN  ...           NaN                  NaN   \n",
       "\n",
       "   total_calories_supply  total_fat_supply  total_protein_supply  \\\n",
       "0                    NaN               NaN                   NaN   \n",
       "1                    NaN               NaN                   NaN   \n",
       "2                    NaN               NaN                   NaN   \n",
       "3                    NaN               NaN                   NaN   \n",
       "4                    NaN               NaN                   NaN   \n",
       "\n",
       "   vape_pop_15_over  veggie_supply  life_expectancy  health_exp_pct_gdp  \\\n",
       "0               NaN            NaN              NaN                 NaN   \n",
       "1               NaN            NaN              NaN                 NaN   \n",
       "2               NaN            NaN              NaN                 NaN   \n",
       "3               NaN            NaN              NaN                 NaN   \n",
       "4               NaN            NaN              NaN                 NaN   \n",
       "\n",
       "   gdp_per_capita  \n",
       "0             NaN  \n",
       "1             NaN  \n",
       "2             NaN  \n",
       "3             NaN  \n",
       "4             NaN  \n",
       "\n",
       "[5 rows x 50 columns]"
      ]
     },
     "execution_count": 15,
     "metadata": {},
     "output_type": "execute_result"
    }
   ],
   "source": [
    "base_df.head()"
   ]
  },
  {
   "cell_type": "code",
   "execution_count": 16,
   "id": "5965a2cc-cb7d-431e-ad13-685060aafd5a",
   "metadata": {
    "tags": []
   },
   "outputs": [],
   "source": [
    "# finally, save end df to new .csv\n",
    "base_df.to_csv('oecd_data.csv', index=False)"
   ]
  },
  {
   "cell_type": "markdown",
   "id": "8bee9686-183f-4f77-9a24-c370a5be9efc",
   "metadata": {},
   "source": [
    "# Data Cleaning\n",
    "\n",
    "Now we can start cleaning with the fully merged dataframe."
   ]
  },
  {
   "cell_type": "code",
   "execution_count": 17,
   "id": "00e51ba3-d4e1-4df4-aab5-b7ec1886b6e6",
   "metadata": {
    "tags": []
   },
   "outputs": [],
   "source": [
    "# read fully merged df\n",
    "df = pd.read_csv('oecd_data.csv')"
   ]
  },
  {
   "cell_type": "markdown",
   "id": "ee6815ae-4330-486b-828e-2b53562e20d9",
   "metadata": {},
   "source": [
    "# Filter Rows"
   ]
  },
  {
   "cell_type": "code",
   "execution_count": 18,
   "id": "db826524-2260-4bd1-81a1-90a74a275b6f",
   "metadata": {
    "tags": []
   },
   "outputs": [],
   "source": [
    "# Filter rows within the range of 1990 to 2023\n",
    "df = df[(df['year'] >= 1990) & (df['year'] <= 2023)]"
   ]
  },
  {
   "cell_type": "markdown",
   "id": "1dcfaa22-420a-4209-abc9-f0dbf2ea9e85",
   "metadata": {},
   "source": [
    "## Drop Columns"
   ]
  },
  {
   "cell_type": "code",
   "execution_count": 19,
   "id": "b00048f2-3497-4417-bead-341e639fb1a4",
   "metadata": {
    "tags": []
   },
   "outputs": [],
   "source": [
    "# List of columns to remove\n",
    "columns_to_remove = [\n",
    "    'expitem8', 'expitem9', 'expitem10', 'expitem11',\n",
    "    'revitem1', 'revitem2', 'revitem3', 'revitem4', 'revitem5',\n",
    "    'revitem6', 'revitem7', 'revitem8', 'revitem9', 'revitem10',\n",
    "    'exch', 'gap', 'nlgq', 'nlgqa', 'ypg', 'ypga', 'yrg', 'yrga', 'ggflm'\n",
    "]\n",
    "\n",
    "# Remove the specified columns\n",
    "df = df.drop(columns=columns_to_remove)"
   ]
  },
  {
   "cell_type": "markdown",
   "id": "15341f99-e805-4652-8794-7fc58fb711ec",
   "metadata": {
    "tags": []
   },
   "source": [
    "## Rename Columns"
   ]
  },
  {
   "cell_type": "code",
   "execution_count": 20,
   "id": "e6121cd3-d24d-42d7-a1ef-7c7a4f97727a",
   "metadata": {
    "tags": []
   },
   "outputs": [],
   "source": [
    "column_name_mapping = {\n",
    "    'expitem1': 'education_exp',\n",
    "    'expitem2': 'public_health_exp',\n",
    "    'expitem3': 'wages_exp',\n",
    "    'expitem4': 'pensions_exp',\n",
    "    'expitem5': 'sickness_disability_exp',\n",
    "    'expitem6': 'unemployment_exp',\n",
    "    'expitem7': 'family_children_exp',\n",
    "}\n",
    "\n",
    "# Rename the columns using the dictionary\n",
    "df = df.rename(columns=column_name_mapping)"
   ]
  },
  {
   "cell_type": "markdown",
   "id": "165bf996-5e4d-47ed-87be-3befa7463c66",
   "metadata": {},
   "source": [
    "# Map Country Names to ISO3"
   ]
  },
  {
   "cell_type": "code",
   "execution_count": 21,
   "id": "bb2f87a8-f0f5-4661-b00e-d2a405e45575",
   "metadata": {
    "tags": []
   },
   "outputs": [
    {
     "name": "stdout",
     "output_type": "stream",
     "text": [
      "['AUS' 'AUT' 'BEL' 'BGR' 'CAN' 'CHE' 'CHL' 'COL' 'CRI' 'CZE' 'DEU' 'DNK'\n",
      " 'ESP' 'EST' 'FIN' 'FRA' 'GBR' 'GRC' 'HUN' 'IRL' 'ISL' 'ISR' 'ITA' 'JPN'\n",
      " 'KOR' 'LTU' 'LUX' 'LVA' 'MEX' 'NLD' 'NOR' 'NZL' 'POL' 'PRT' 'SVK' 'SVN'\n",
      " 'SWE' 'TUR' 'USA']\n"
     ]
    }
   ],
   "source": [
    "# assign full country names to country codes\n",
    "# find unique country codes\n",
    "unique_iso3_values = df['iso3'].unique()\n",
    "print(unique_iso3_values)"
   ]
  },
  {
   "cell_type": "code",
   "execution_count": 22,
   "id": "ad0f3b7e-91f9-47cc-b046-83c870f3bc36",
   "metadata": {
    "tags": []
   },
   "outputs": [],
   "source": [
    "country_code_to_name = {\n",
    "    'AUS': 'Australia',\n",
    "    'AUT': 'Austria',\n",
    "    'BEL': 'Belgium',\n",
    "    'BGR': 'Bulgaria',\n",
    "    'CAN': 'Canada',\n",
    "    'CHE': 'Switzerland',\n",
    "    'CHL': 'Chile',\n",
    "    'COL': 'Colombia',\n",
    "    'CRI': 'Costa Rica',\n",
    "    'CZE': 'Czech Republic',\n",
    "    'DEU': 'Germany',\n",
    "    'DNK': 'Denmark',\n",
    "    'ESP': 'Spain',\n",
    "    'EST': 'Estonia',\n",
    "    'FIN': 'Finland',\n",
    "    'FRA': 'France',\n",
    "    'GBR': 'United Kingdom',\n",
    "    'GRC': 'Greece',\n",
    "    'HUN': 'Hungary',\n",
    "    'IRL': 'Ireland',\n",
    "    'ISL': 'Iceland',\n",
    "    'ISR': 'Israel',\n",
    "    'ITA': 'Italy',\n",
    "    'JPN': 'Japan',\n",
    "    'KOR': 'South Korea',\n",
    "    'LTU': 'Lithuania',\n",
    "    'LUX': 'Luxembourg',\n",
    "    'LVA': 'Latvia',\n",
    "    'MEX': 'Mexico',\n",
    "    'NLD': 'Netherlands',\n",
    "    'NOR': 'Norway',\n",
    "    'NZL': 'New Zealand',\n",
    "    'POL': 'Poland',\n",
    "    'PRT': 'Portugal',\n",
    "    'SVK': 'Slovakia',\n",
    "    'SVN': 'Slovenia',\n",
    "    'SWE': 'Sweden',\n",
    "    'TUR': 'Turkey',\n",
    "    'USA': 'United States'\n",
    "}\n",
    "\n",
    "# map the country name to the corresponding iso3\n",
    "df['country'] = df['iso3'].map(country_code_to_name)"
   ]
  },
  {
   "cell_type": "code",
   "execution_count": 23,
   "id": "cbeb8fab-2a96-41bb-bc99-955ad33ed2f9",
   "metadata": {},
   "outputs": [],
   "source": [
    "#### CONTINENT AND COUNTRY\n",
    "geo_df = pd.read_csv('data/geographical.csv')\n",
    "\n",
    "# Rename the column in geo_df\n",
    "geo_df.rename(columns={'Country Name': 'country', 'Continent': 'continent', 'Geographical Region': 'region'}, inplace=True)\n",
    "\n",
    "# Merge the DataFrames on the 'country' column\n",
    "df = pd.merge(df, geo_df[['country', 'continent', 'region']], on='country', how='left')"
   ]
  },
  {
   "cell_type": "code",
   "execution_count": 24,
   "id": "c4e97a2b-e5ce-4e5a-a0ad-b9a5f3f4cbae",
   "metadata": {
    "tags": []
   },
   "outputs": [],
   "source": [
    "# Define a function to move a column to a specific position\n",
    "def move_column(df, column_name, position):\n",
    "    column = df.pop(column_name)\n",
    "    df.insert(position, column_name, column)\n",
    "\n",
    "# Move the \"country\" column before the \"iso3\" column\n",
    "move_column(df, \"country\", df.columns.get_loc(\"iso3\"))\n",
    "\n",
    "# Move the \"region\" column after the \"iso3\" column\n",
    "move_column(df, \"region\", df.columns.get_loc(\"iso3\") + 1)\n",
    "\n",
    "# Move the \"continent\" column after the \"iso3\" column\n",
    "move_column(df, \"continent\", df.columns.get_loc(\"iso3\") + 1)\n",
    "\n",
    "# Move the \"gdp_per_capita\" column after the \"gdp\" column\n",
    "move_column(df, \"gdp_per_capita\", df.columns.get_loc(\"gdp\") + 1)\n",
    "\n",
    "# Move the \"health_exp_pct_gdp\" column after the \"year\" column\n",
    "move_column(df, \"health_exp_pct_gdp\", df.columns.get_loc(\"year\") + 1)"
   ]
  },
  {
   "cell_type": "markdown",
   "id": "1450890d-383e-4b98-ad43-9aca80a59c6f",
   "metadata": {},
   "source": [
    "# Data Transformation"
   ]
  },
  {
   "cell_type": "code",
   "execution_count": 25,
   "id": "17358972-c171-439c-a0dd-ee1580dc2581",
   "metadata": {
    "tags": []
   },
   "outputs": [],
   "source": [
    "# Define a list of expense columns to calculate percentages for\n",
    "expense_columns = [\n",
    "    'education_exp', 'public_health_exp', 'wages_exp',\n",
    "    'pensions_exp', 'sickness_disability_exp',\n",
    "    'unemployment_exp', 'family_children_exp'\n",
    "]\n",
    "\n",
    "# Calculate percentages and create new variables with \"_pct_gdp\" suffix\n",
    "# for col in expense_columns:\n",
    "#     new_col_name = col + '_pct_gdp'\n",
    "#     df[new_col_name] = (df[col] / df['gdp'] * 100).round(2)\n",
    "    \n",
    "# Calculate percentages and create new variables with \"_per_capita\" suffix\n",
    "# for col in expense_columns:\n",
    "#     new_col_name = col + '_per_capita'\n",
    "#     df[new_col_name] = (df[col] / df['total_population'] * 100).round(2)"
   ]
  },
  {
   "cell_type": "code",
   "execution_count": 26,
   "id": "b45d2b83-8836-4f85-9e25-603eecc8e9b5",
   "metadata": {
    "tags": []
   },
   "outputs": [],
   "source": [
    "# # Get the index of the \"family_children_exp\" column\n",
    "# family_children_index = df.columns.get_loc(\"family_children_exp\")\n",
    "\n",
    "# # Get the newly generated columns with \"_per_capita\" suffix\n",
    "# per_capita_columns = [col + '_per_capita' for col in expense_columns]\n",
    "\n",
    "# # Move the per capita columns after the \"family_children_exp\" column\n",
    "# for col in per_capita_columns:\n",
    "#     df.insert(family_children_index + 1, col, df.pop(col))"
   ]
  },
  {
   "cell_type": "markdown",
   "id": "b814677f-a4df-4e66-a126-c639e9079ea1",
   "metadata": {},
   "source": [
    "# MISSING DATA AND IMPUTATION"
   ]
  },
  {
   "cell_type": "markdown",
   "id": "b544f865-20d1-4f76-b3e0-f1f4ba6de2bd",
   "metadata": {},
   "source": [
    "# Save CSV"
   ]
  },
  {
   "cell_type": "code",
   "execution_count": 27,
   "id": "1130eacf-d643-4448-840c-1c4464f58679",
   "metadata": {
    "tags": []
   },
   "outputs": [],
   "source": [
    "# Save CSV\n",
    "df.to_csv('oecd_data.csv', index=False)"
   ]
  }
 ],
 "metadata": {
  "kernelspec": {
   "display_name": "Python 3 (ipykernel)",
   "language": "python",
   "name": "python3"
  },
  "language_info": {
   "codemirror_mode": {
    "name": "ipython",
    "version": 3
   },
   "file_extension": ".py",
   "mimetype": "text/x-python",
   "name": "python",
   "nbconvert_exporter": "python",
   "pygments_lexer": "ipython3",
   "version": "3.11.4"
  }
 },
 "nbformat": 4,
 "nbformat_minor": 5
}
