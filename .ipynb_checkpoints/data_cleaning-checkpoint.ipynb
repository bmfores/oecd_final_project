{
 "cells": [
  {
   "cell_type": "code",
   "execution_count": 1,
   "id": "5bd0d782-883e-429b-a865-bcc47bcc585a",
   "metadata": {
    "tags": []
   },
   "outputs": [],
   "source": [
    "import pandas as pd\n",
    "import warnings\n",
    "\n",
    "# Use the context manager to temporarily suppress warnings\n",
    "# with warnings.catch_warnings():\n",
    "#     # Filter out the warnings you want to ignore by category\n",
    "#     warnings.filterwarnings(\"ignore\", category=SomeWarningCategory)"
   ]
  },
  {
   "cell_type": "markdown",
   "id": "8299746a-ad12-4a92-a3da-c18554e332c0",
   "metadata": {},
   "source": [
    "# Dataset Merging\n",
    "\n",
    "Here we will aggregate various datasets from OECD database."
   ]
  },
  {
   "cell_type": "code",
   "execution_count": 2,
   "id": "66951369-1cd8-46db-8e3a-1984ae39d011",
   "metadata": {
    "tags": []
   },
   "outputs": [],
   "source": [
    "# read public finance dataset, use this as the base dataframe\n",
    "base_df = pd.read_csv('data/public_finance.csv')"
   ]
  },
  {
   "cell_type": "markdown",
   "id": "d70f6845-b152-4585-878d-d304d1f1de25",
   "metadata": {},
   "source": [
    "# Merge Population Data"
   ]
  },
  {
   "cell_type": "code",
   "execution_count": 3,
   "id": "1f491005-af1c-4059-9ee2-5c2ec432aa02",
   "metadata": {
    "tags": []
   },
   "outputs": [],
   "source": [
    "# read population csv to dataframe\n",
    "pop_df = pd.read_csv('data/population.csv')\n",
    "\n",
    "# rename columns\n",
    "pop_df.rename(columns={'LOCATION': 'iso3', 'Time': 'year', 'Value': 'total_population'}, inplace=True)"
   ]
  },
  {
   "cell_type": "code",
   "execution_count": 4,
   "id": "08d1731c-81a7-4b2e-83f0-27798a4331e7",
   "metadata": {
    "tags": []
   },
   "outputs": [],
   "source": [
    "# merge\n",
    "base_df = base_df.merge(pop_df[['iso3', 'year', 'total_population']], on=['iso3', 'year'], how='left')"
   ]
  },
  {
   "cell_type": "markdown",
   "id": "295a02da-81cd-4671-93ba-45ee4306ac11",
   "metadata": {},
   "source": [
    "## Pivot and Merge Nonhealth Predictors"
   ]
  },
  {
   "cell_type": "code",
   "execution_count": 5,
   "id": "095549a3-dd5b-47f9-add5-3bc3a235ae42",
   "metadata": {
    "tags": []
   },
   "outputs": [],
   "source": [
    "#read dataframe\n",
    "nonhealth_df = pd.read_csv('data/nonhealth_predictors.csv')\n",
    "\n",
    "# Pivot method\n",
    "pivot_nonhealth_df = nonhealth_df.pivot(index=['COU', 'Year'], columns='Variable', values='Value').reset_index()\n",
    "\n",
    "# If you want to have a flat DataFrame without a MultiIndex in the columns\n",
    "pivot_nonhealth_df.columns.name = None  # Remove the categories name\n",
    "pivot_nonhealth_df = pivot_nonhealth_df.reset_index()  # To flatten the DataFrame"
   ]
  },
  {
   "cell_type": "code",
   "execution_count": 6,
   "id": "04cc72b0-c657-44a2-811a-b348654208db",
   "metadata": {
    "tags": []
   },
   "outputs": [],
   "source": [
    "# rename columns\n",
    "# Create a dictionary of old and new column names\n",
    "rename_dict = {\n",
    "    'COU': 'iso3',\n",
    "    'Year': 'year',\n",
    "    'Alcohol consumption': 'alcohol_consume',\n",
    "    'Fruits supply': 'fruit_supply',\n",
    "    'Obese population, measured': 'obese_pop_measured',\n",
    "    'Overweight population, measured': 'overweight_pop_measured',\n",
    "    'Sugar supply': 'sugar_supply',\n",
    "    'Tobacco consumption': 'tobacco_consumption',\n",
    "    'Total calories supply': 'total_calories_supply',\n",
    "    'Total fat supply': 'total_fat_supply',\n",
    "    'Total protein supply': 'total_protein_supply',\n",
    "    'Vaping population: e-cigarettes use, adults (aged 15+)': 'vape_pop_15_over',\n",
    "    'Vegetables supply': 'veggie_supply'\n",
    "}\n",
    "\n",
    "# rename\n",
    "pivot_nonhealth_df.rename(columns=rename_dict, inplace=True)"
   ]
  },
  {
   "cell_type": "code",
   "execution_count": 7,
   "id": "868fdee8-163a-49a7-b6b8-89c4563c1df2",
   "metadata": {
    "tags": []
   },
   "outputs": [],
   "source": [
    "# drop index column\n",
    "pivot_nonhealth_df.drop(pivot_nonhealth_df.columns[[0]], axis=1, inplace=True)"
   ]
  },
  {
   "cell_type": "code",
   "execution_count": 8,
   "id": "59111362-8a75-43e2-9635-2f9a1ef9d342",
   "metadata": {
    "tags": []
   },
   "outputs": [],
   "source": [
    "# Merge pivoted nonhealth df to base_df\n",
    "base_df = base_df.merge(pivot_nonhealth_df, on=['iso3', 'year'], how='left')"
   ]
  },
  {
   "cell_type": "markdown",
   "id": "a3dac30e-012a-4f74-abb4-ab54cb5e668d",
   "metadata": {},
   "source": [
    "## Merge Life Expectancy Data"
   ]
  },
  {
   "cell_type": "code",
   "execution_count": 9,
   "id": "4e1ea0d1-e9be-4134-9511-16ceea8c6007",
   "metadata": {
    "tags": []
   },
   "outputs": [],
   "source": [
    "# read life expectancy csv to dataframe\n",
    "lifeexp_df = pd.read_csv('data/life_expectancy.csv')\n",
    "\n",
    "# rename columns\n",
    "lifeexp_df.rename(columns={'COU': 'iso3', 'Year': 'year', 'Value': 'life_expectancy'}, inplace=True)"
   ]
  },
  {
   "cell_type": "code",
   "execution_count": 10,
   "id": "57055495-8f4f-42a7-a388-c8e7ea1681a1",
   "metadata": {
    "tags": []
   },
   "outputs": [],
   "source": [
    "# merge\n",
    "base_df = base_df.merge(lifeexp_df[['iso3', 'year', 'life_expectancy']], on=['iso3', 'year'], how='left')"
   ]
  },
  {
   "cell_type": "markdown",
   "id": "27c2826b-e059-404e-95fb-10b14cbf4e92",
   "metadata": {},
   "source": [
    "## Merge Health Expenditures Data"
   ]
  },
  {
   "cell_type": "code",
   "execution_count": 11,
   "id": "4b12d93d-0aa4-4b94-a801-a5a7eca4bad4",
   "metadata": {
    "tags": []
   },
   "outputs": [],
   "source": [
    "# read health expenditure csv to dataframe\n",
    "healthexp_df = pd.read_csv('data/health_expenditures.csv')\n",
    "\n",
    "# rename columns\n",
    "healthexp_df.rename(columns={'LOCATION': 'iso3', 'Year': 'year', 'Value': 'health_exp_pct_gdp'}, inplace=True)"
   ]
  },
  {
   "cell_type": "code",
   "execution_count": 12,
   "id": "c0b7512f-05c1-4de7-9fd6-beb2aff4a3ee",
   "metadata": {
    "tags": []
   },
   "outputs": [],
   "source": [
    "# merge\n",
    "base_df = base_df.merge(healthexp_df[['iso3', 'year', 'health_exp_pct_gdp']], on=['iso3', 'year'], how='left')"
   ]
  },
  {
   "cell_type": "markdown",
   "id": "54b990ae-5b54-453d-a2d7-8bcd0cdc3e06",
   "metadata": {},
   "source": [
    "## Merge GDP Per Capital Data"
   ]
  },
  {
   "cell_type": "code",
   "execution_count": 13,
   "id": "0b16aeae-7da3-478d-bc25-27b184507423",
   "metadata": {
    "tags": []
   },
   "outputs": [],
   "source": [
    "# read health expenditure csv to dataframe\n",
    "gdp_df = pd.read_csv('data/gdp_per_capita.csv')\n",
    "\n",
    "# rename columns\n",
    "gdp_df.rename(columns={'COU': 'iso3', 'Year': 'year', 'Value': 'gdp_per_capita'}, inplace=True)"
   ]
  },
  {
   "cell_type": "code",
   "execution_count": 14,
   "id": "c98ab2dc-9c24-43a7-ade8-9f6de0860740",
   "metadata": {
    "tags": []
   },
   "outputs": [],
   "source": [
    "# merge\n",
    "base_df = base_df.merge(gdp_df[['iso3', 'year', 'gdp_per_capita']], on=['iso3', 'year'], how='left')"
   ]
  },
  {
   "cell_type": "markdown",
   "id": "ef963fed-0813-4af6-afa5-3209c9f89ee3",
   "metadata": {},
   "source": [
    "### Save Fully Merged Dataframe"
   ]
  },
  {
   "cell_type": "code",
   "execution_count": 15,
   "id": "578ce088-e77b-4f37-b773-57f32057daa8",
   "metadata": {
    "tags": []
   },
   "outputs": [
    {
     "data": {
      "text/html": [
       "<div>\n",
       "<style scoped>\n",
       "    .dataframe tbody tr th:only-of-type {\n",
       "        vertical-align: middle;\n",
       "    }\n",
       "\n",
       "    .dataframe tbody tr th {\n",
       "        vertical-align: top;\n",
       "    }\n",
       "\n",
       "    .dataframe thead th {\n",
       "        text-align: right;\n",
       "    }\n",
       "</style>\n",
       "<table border=\"1\" class=\"dataframe\">\n",
       "  <thead>\n",
       "    <tr style=\"text-align: right;\">\n",
       "      <th></th>\n",
       "      <th>iso3</th>\n",
       "      <th>year</th>\n",
       "      <th>expitem1</th>\n",
       "      <th>expitem10</th>\n",
       "      <th>expitem11</th>\n",
       "      <th>expitem2</th>\n",
       "      <th>expitem3</th>\n",
       "      <th>expitem4</th>\n",
       "      <th>expitem5</th>\n",
       "      <th>expitem6</th>\n",
       "      <th>...</th>\n",
       "      <th>sugar_supply</th>\n",
       "      <th>tobacco_consumption</th>\n",
       "      <th>total_calories_supply</th>\n",
       "      <th>total_fat_supply</th>\n",
       "      <th>total_protein_supply</th>\n",
       "      <th>vape_pop_15_over</th>\n",
       "      <th>veggie_supply</th>\n",
       "      <th>life_expectancy</th>\n",
       "      <th>health_exp_pct_gdp</th>\n",
       "      <th>gdp_per_capita</th>\n",
       "    </tr>\n",
       "  </thead>\n",
       "  <tbody>\n",
       "    <tr>\n",
       "      <th>0</th>\n",
       "      <td>AUS</td>\n",
       "      <td>1945</td>\n",
       "      <td>NaN</td>\n",
       "      <td>NaN</td>\n",
       "      <td>NaN</td>\n",
       "      <td>NaN</td>\n",
       "      <td>NaN</td>\n",
       "      <td>NaN</td>\n",
       "      <td>NaN</td>\n",
       "      <td>NaN</td>\n",
       "      <td>...</td>\n",
       "      <td>NaN</td>\n",
       "      <td>NaN</td>\n",
       "      <td>NaN</td>\n",
       "      <td>NaN</td>\n",
       "      <td>NaN</td>\n",
       "      <td>NaN</td>\n",
       "      <td>NaN</td>\n",
       "      <td>NaN</td>\n",
       "      <td>NaN</td>\n",
       "      <td>NaN</td>\n",
       "    </tr>\n",
       "    <tr>\n",
       "      <th>1</th>\n",
       "      <td>AUS</td>\n",
       "      <td>1946</td>\n",
       "      <td>NaN</td>\n",
       "      <td>NaN</td>\n",
       "      <td>NaN</td>\n",
       "      <td>NaN</td>\n",
       "      <td>NaN</td>\n",
       "      <td>NaN</td>\n",
       "      <td>NaN</td>\n",
       "      <td>NaN</td>\n",
       "      <td>...</td>\n",
       "      <td>NaN</td>\n",
       "      <td>NaN</td>\n",
       "      <td>NaN</td>\n",
       "      <td>NaN</td>\n",
       "      <td>NaN</td>\n",
       "      <td>NaN</td>\n",
       "      <td>NaN</td>\n",
       "      <td>NaN</td>\n",
       "      <td>NaN</td>\n",
       "      <td>NaN</td>\n",
       "    </tr>\n",
       "    <tr>\n",
       "      <th>2</th>\n",
       "      <td>AUS</td>\n",
       "      <td>1947</td>\n",
       "      <td>NaN</td>\n",
       "      <td>NaN</td>\n",
       "      <td>NaN</td>\n",
       "      <td>NaN</td>\n",
       "      <td>NaN</td>\n",
       "      <td>NaN</td>\n",
       "      <td>NaN</td>\n",
       "      <td>NaN</td>\n",
       "      <td>...</td>\n",
       "      <td>NaN</td>\n",
       "      <td>NaN</td>\n",
       "      <td>NaN</td>\n",
       "      <td>NaN</td>\n",
       "      <td>NaN</td>\n",
       "      <td>NaN</td>\n",
       "      <td>NaN</td>\n",
       "      <td>NaN</td>\n",
       "      <td>NaN</td>\n",
       "      <td>NaN</td>\n",
       "    </tr>\n",
       "    <tr>\n",
       "      <th>3</th>\n",
       "      <td>AUS</td>\n",
       "      <td>1948</td>\n",
       "      <td>NaN</td>\n",
       "      <td>NaN</td>\n",
       "      <td>NaN</td>\n",
       "      <td>NaN</td>\n",
       "      <td>NaN</td>\n",
       "      <td>NaN</td>\n",
       "      <td>NaN</td>\n",
       "      <td>NaN</td>\n",
       "      <td>...</td>\n",
       "      <td>NaN</td>\n",
       "      <td>NaN</td>\n",
       "      <td>NaN</td>\n",
       "      <td>NaN</td>\n",
       "      <td>NaN</td>\n",
       "      <td>NaN</td>\n",
       "      <td>NaN</td>\n",
       "      <td>NaN</td>\n",
       "      <td>NaN</td>\n",
       "      <td>NaN</td>\n",
       "    </tr>\n",
       "    <tr>\n",
       "      <th>4</th>\n",
       "      <td>AUS</td>\n",
       "      <td>1949</td>\n",
       "      <td>NaN</td>\n",
       "      <td>NaN</td>\n",
       "      <td>NaN</td>\n",
       "      <td>NaN</td>\n",
       "      <td>NaN</td>\n",
       "      <td>NaN</td>\n",
       "      <td>NaN</td>\n",
       "      <td>NaN</td>\n",
       "      <td>...</td>\n",
       "      <td>NaN</td>\n",
       "      <td>NaN</td>\n",
       "      <td>NaN</td>\n",
       "      <td>NaN</td>\n",
       "      <td>NaN</td>\n",
       "      <td>NaN</td>\n",
       "      <td>NaN</td>\n",
       "      <td>NaN</td>\n",
       "      <td>NaN</td>\n",
       "      <td>NaN</td>\n",
       "    </tr>\n",
       "  </tbody>\n",
       "</table>\n",
       "<p>5 rows × 50 columns</p>\n",
       "</div>"
      ],
      "text/plain": [
       "  iso3  year  expitem1  expitem10  expitem11  expitem2  expitem3  expitem4  \\\n",
       "0  AUS  1945       NaN        NaN        NaN       NaN       NaN       NaN   \n",
       "1  AUS  1946       NaN        NaN        NaN       NaN       NaN       NaN   \n",
       "2  AUS  1947       NaN        NaN        NaN       NaN       NaN       NaN   \n",
       "3  AUS  1948       NaN        NaN        NaN       NaN       NaN       NaN   \n",
       "4  AUS  1949       NaN        NaN        NaN       NaN       NaN       NaN   \n",
       "\n",
       "   expitem5  expitem6  ...  sugar_supply  tobacco_consumption  \\\n",
       "0       NaN       NaN  ...           NaN                  NaN   \n",
       "1       NaN       NaN  ...           NaN                  NaN   \n",
       "2       NaN       NaN  ...           NaN                  NaN   \n",
       "3       NaN       NaN  ...           NaN                  NaN   \n",
       "4       NaN       NaN  ...           NaN                  NaN   \n",
       "\n",
       "   total_calories_supply  total_fat_supply  total_protein_supply  \\\n",
       "0                    NaN               NaN                   NaN   \n",
       "1                    NaN               NaN                   NaN   \n",
       "2                    NaN               NaN                   NaN   \n",
       "3                    NaN               NaN                   NaN   \n",
       "4                    NaN               NaN                   NaN   \n",
       "\n",
       "   vape_pop_15_over  veggie_supply  life_expectancy  health_exp_pct_gdp  \\\n",
       "0               NaN            NaN              NaN                 NaN   \n",
       "1               NaN            NaN              NaN                 NaN   \n",
       "2               NaN            NaN              NaN                 NaN   \n",
       "3               NaN            NaN              NaN                 NaN   \n",
       "4               NaN            NaN              NaN                 NaN   \n",
       "\n",
       "   gdp_per_capita  \n",
       "0             NaN  \n",
       "1             NaN  \n",
       "2             NaN  \n",
       "3             NaN  \n",
       "4             NaN  \n",
       "\n",
       "[5 rows x 50 columns]"
      ]
     },
     "execution_count": 15,
     "metadata": {},
     "output_type": "execute_result"
    }
   ],
   "source": [
    "base_df.head()"
   ]
  },
  {
   "cell_type": "code",
   "execution_count": 16,
   "id": "5965a2cc-cb7d-431e-ad13-685060aafd5a",
   "metadata": {
    "tags": []
   },
   "outputs": [],
   "source": [
    "# finally, save end df to new .csv\n",
    "base_df.to_csv('oecd_data.csv', index=False)"
   ]
  },
  {
   "cell_type": "markdown",
   "id": "8bee9686-183f-4f77-9a24-c370a5be9efc",
   "metadata": {},
   "source": [
    "# Data Cleaning\n",
    "\n",
    "Now we can start cleaning with the fully merged dataframe."
   ]
  },
  {
   "cell_type": "code",
   "execution_count": 17,
   "id": "00e51ba3-d4e1-4df4-aab5-b7ec1886b6e6",
   "metadata": {
    "tags": []
   },
   "outputs": [],
   "source": [
    "# read fully merged df\n",
    "df = pd.read_csv('oecd_data.csv')"
   ]
  },
  {
   "cell_type": "markdown",
   "id": "ee6815ae-4330-486b-828e-2b53562e20d9",
   "metadata": {},
   "source": [
    "# Filter Rows"
   ]
  },
  {
   "cell_type": "code",
   "execution_count": 18,
   "id": "db826524-2260-4bd1-81a1-90a74a275b6f",
   "metadata": {
    "tags": []
   },
   "outputs": [],
   "source": [
    "# Filter rows within the range of 1990 to 2023\n",
    "df = df[(df['year'] >= 1990) & (df['year'] <= 2023)]"
   ]
  },
  {
   "cell_type": "markdown",
   "id": "1dcfaa22-420a-4209-abc9-f0dbf2ea9e85",
   "metadata": {},
   "source": [
    "## Drop Columns"
   ]
  },
  {
   "cell_type": "code",
   "execution_count": 19,
   "id": "b00048f2-3497-4417-bead-341e639fb1a4",
   "metadata": {
    "tags": []
   },
   "outputs": [],
   "source": [
    "# List of columns to remove\n",
    "# columns_to_remove = [\n",
    "#     'expitem8', 'expitem9', 'expitem10', 'expitem11',\n",
    "#     'revitem1', 'revitem2', 'revitem3', 'revitem4', 'revitem5',\n",
    "#     'revitem6', 'revitem7', 'revitem8', 'revitem9', 'revitem10',\n",
    "#     'exch', 'gap', 'nlgq', 'nlgqa', 'ypg', 'ypga', 'yrg', 'yrga', 'ggflm'\n",
    "# ]\n",
    "\n",
    "# Remove the specified columns\n",
    "# df = df.drop(columns=columns_to_remove)"
   ]
  },
  {
   "cell_type": "markdown",
   "id": "15341f99-e805-4652-8794-7fc58fb711ec",
   "metadata": {
    "tags": []
   },
   "source": [
    "## Rename Columns"
   ]
  },
  {
   "cell_type": "code",
   "execution_count": 20,
   "id": "e6121cd3-d24d-42d7-a1ef-7c7a4f97727a",
   "metadata": {
    "tags": []
   },
   "outputs": [],
   "source": [
    "column_name_mapping = {\n",
    "    'expitem1': 'education_exp',\n",
    "    'expitem2': 'public_health_exp',\n",
    "    'expitem3': 'wages_exp',\n",
    "    'expitem4': 'pensions_exp',\n",
    "    'expitem5': 'sickness_disability_exp',\n",
    "    'expitem6': 'unemployment_exp',\n",
    "    'expitem7': 'family_children_exp',\n",
    "    'expitem8': 'subsidies_exp',\n",
    "    'expitem9': 'public_investment_exp',\n",
    "    'expitem10': 'other_primary_exp',\n",
    "    'expitem11': 'property_income_exp',\n",
    "    'expitem11_primary': 'property_income_paid',\n",
    "    'revitem1': 'personal_income_tax',\n",
    "    'revitem2': 'social_security_contrib',\n",
    "    'revitem3': 'corporate_income_tax',\n",
    "    'revitem4': 'environmental_tax',\n",
    "    'revitem5': 'other_consumption_tax',\n",
    "    'revitem6': 'immovable_property_tax',\n",
    "    'revitem7': 'other_property_tax',\n",
    "    'revitem8': 'sales_goods_services',\n",
    "    'revitem9': 'other_nonproperty_tax',\n",
    "    'revitem10': 'property_income',\n",
    "    'revitem10_primary': 'property_income_received',\n",
    "    'gdpv': 'gdp_volume_market_prices',\n",
    "    'exch': 'exchange_rate_usd',\n",
    "    'gap': 'total_economy_output_gap',\n",
    "    'nlgq': 'gov_net_lending_gdp_percentage',\n",
    "    'nlgqa': 'gov_net_lending_adj_gdp_percentage',\n",
    "    'ypg': 'current_disbursements_gen_gov',\n",
    "    'ypga': 'cyclically_adj_current_disbursements_gen_gov',\n",
    "    'yrg': 'current_receipts_gen_gov',\n",
    "    'yrga': 'cyclically_adj_current_receipts_gen_gov',\n",
    "    'ggflm': 'gross_public_debt_maastricht_value'\n",
    "}\n",
    "\n",
    "# Rename the columns using the dictionary\n",
    "df = df.rename(columns=column_name_mapping)"
   ]
  },
  {
   "cell_type": "markdown",
   "id": "165bf996-5e4d-47ed-87be-3befa7463c66",
   "metadata": {},
   "source": [
    "# Map Country Names to ISO3"
   ]
  },
  {
   "cell_type": "code",
   "execution_count": 21,
   "id": "bb2f87a8-f0f5-4661-b00e-d2a405e45575",
   "metadata": {
    "tags": []
   },
   "outputs": [
    {
     "name": "stdout",
     "output_type": "stream",
     "text": [
      "['AUS' 'AUT' 'BEL' 'BGR' 'CAN' 'CHE' 'CHL' 'COL' 'CRI' 'CZE' 'DEU' 'DNK'\n",
      " 'ESP' 'EST' 'FIN' 'FRA' 'GBR' 'GRC' 'HUN' 'IRL' 'ISL' 'ISR' 'ITA' 'JPN'\n",
      " 'KOR' 'LTU' 'LUX' 'LVA' 'MEX' 'NLD' 'NOR' 'NZL' 'POL' 'PRT' 'SVK' 'SVN'\n",
      " 'SWE' 'TUR' 'USA']\n"
     ]
    }
   ],
   "source": [
    "# assign full country names to country codes\n",
    "# find unique country codes\n",
    "unique_iso3_values = df['iso3'].unique()\n",
    "print(unique_iso3_values)"
   ]
  },
  {
   "cell_type": "code",
   "execution_count": 22,
   "id": "ad0f3b7e-91f9-47cc-b046-83c870f3bc36",
   "metadata": {
    "tags": []
   },
   "outputs": [],
   "source": [
    "country_code_to_name = {\n",
    "    'AUS': 'Australia', 'AUT': 'Austria', 'BEL': 'Belgium', 'BGR': 'Bulgaria', \n",
    "    'CAN': 'Canada', 'CHE': 'Switzerland', 'CHL': 'Chile', 'COL': 'Colombia', \n",
    "    'CRI': 'Costa Rica', 'CZE': 'Czech Republic', 'DEU': 'Germany', 'DNK': 'Denmark', \n",
    "    'ESP': 'Spain', 'EST': 'Estonia', 'FIN': 'Finland', 'FRA': 'France', \n",
    "    'GBR': 'United Kingdom', 'GRC': 'Greece', 'HUN': 'Hungary', 'IRL': 'Ireland', \n",
    "    'ISL': 'Iceland', 'ISR': 'Israel', 'ITA': 'Italy', 'JPN': 'Japan', \n",
    "    'KOR': 'South Korea', 'LTU': 'Lithuania', 'LUX': 'Luxembourg', 'LVA': 'Latvia', \n",
    "    'MEX': 'Mexico', 'NLD': 'Netherlands', 'NOR': 'Norway', 'NZL': 'New Zealand', \n",
    "    'POL': 'Poland', 'PRT': 'Portugal', 'SVK': 'Slovakia', 'SVN': 'Slovenia', \n",
    "    'SWE': 'Sweden', 'TUR': 'Turkey', 'USA': 'United States'\n",
    "}\n",
    "\n",
    "# map the country name to the corresponding iso3\n",
    "df['country'] = df['iso3'].map(country_code_to_name)"
   ]
  },
  {
   "cell_type": "code",
   "execution_count": 23,
   "id": "cbeb8fab-2a96-41bb-bc99-955ad33ed2f9",
   "metadata": {},
   "outputs": [],
   "source": [
    "#### CONTINENT AND COUNTRY\n",
    "geo_df = pd.read_csv('data/geographical.csv')\n",
    "\n",
    "# Rename the column in geo_df\n",
    "geo_df.rename(columns={'Country Name': 'country', 'Continent': 'continent', 'Geographical Region': 'region'}, inplace=True)\n",
    "\n",
    "# Merge the DataFrames on the 'country' column\n",
    "df = pd.merge(df, geo_df[['country', 'continent', 'region']], on='country', how='left')"
   ]
  },
  {
   "cell_type": "code",
   "execution_count": 24,
   "id": "c4e97a2b-e5ce-4e5a-a0ad-b9a5f3f4cbae",
   "metadata": {
    "tags": []
   },
   "outputs": [],
   "source": [
    "# Define a function to move columns to specific positions\n",
    "def move_columns(df, columns_to_move, positions):\n",
    "    for column, position in zip(columns_to_move, positions):\n",
    "        df.insert(position, column, df.pop(column))\n",
    "\n",
    "# Define the columns to move and their respective positions\n",
    "columns_to_move = [\"country\", \"region\", \"continent\", \"gdp_per_capita\", \"health_exp_pct_gdp\"]\n",
    "positions = [df.columns.get_loc(\"iso3\"), df.columns.get_loc(\"iso3\") + 1, df.columns.get_loc(\"iso3\") + 2, df.columns.get_loc(\"gdp\") + 1, df.columns.get_loc(\"year\") + 1]\n",
    "\n",
    "# Move the columns using the function\n",
    "move_columns(df, columns_to_move, positions)"
   ]
  },
  {
   "cell_type": "markdown",
   "id": "1450890d-383e-4b98-ad43-9aca80a59c6f",
   "metadata": {},
   "source": [
    "# Data Transformation"
   ]
  },
  {
   "cell_type": "code",
   "execution_count": 25,
   "id": "476e44f3-a76e-4ffe-8f8d-b8eb3f192ac7",
   "metadata": {
    "tags": []
   },
   "outputs": [],
   "source": [
    "# Define a list of expense columns to calculate percentages for\n",
    "expenditure_columns = [\n",
    "    'education_exp', 'public_health_exp', 'wages_exp', 'pensions_exp',\n",
    "    'sickness_disability_exp', 'unemployment_exp', 'family_children_exp',\n",
    "    'subsidies_exp', 'public_investment_exp', 'other_primary_exp', 'property_income_exp'\n",
    "]\n",
    "\n",
    "# Define a list of revenue columns to calculate percentages for\n",
    "revenue_columns = [\n",
    "    'personal_income_tax', 'social_security_contrib', 'corporate_income_tax',\n",
    "    'environmental_tax', 'other_consumption_tax', 'immovable_property_tax',\n",
    "    'other_property_tax', 'sales_goods_services', 'other_nonproperty_tax',\n",
    "    'property_income'\n",
    "]\n",
    "\n",
    "rev_exp_columns = expenditure_columns + revenue_columns"
   ]
  },
  {
   "cell_type": "code",
   "execution_count": 26,
   "id": "17358972-c171-439c-a0dd-ee1580dc2581",
   "metadata": {
    "tags": []
   },
   "outputs": [],
   "source": [
    "# Calculate percentages and create new variables with \"_pct_gdp\" suffix\n",
    "for col in rev_exp_columns:\n",
    "    new_col_name = col + '_pct_gdp'\n",
    "    \n",
    "    # Check if both 'col' and 'gdp' are not missing (not NaN)\n",
    "    valid_indices = df[col].notna() & df['gdp'].notna()\n",
    "    # Perform the calculation only for valid indices\n",
    "    df.loc[valid_indices, new_col_name] = (df.loc[valid_indices, col] / df.loc[valid_indices, 'gdp'] * 100).round(2)\n",
    "\n",
    "# Check if all columns in expenditure_columns and revenue are not missing for each row\n",
    "valid_expenditure_indices = df[expenditure_columns].notna().all(axis=1)\n",
    "valid_revenue_indices = df[revenue_columns].notna().all(axis=1)\n",
    "\n",
    "# Calculate the sum of expenditure and revenue for rows where all expenditure columns are not missing\n",
    "df.loc[valid_expenditure_indices, 'total_expenditure'] = df.loc[valid_expenditure_indices, expenditure_columns].sum(axis=1)\n",
    "df.loc[valid_revenue_indices, 'total_revenue'] = df.loc[valid_revenue_indices, revenue_columns].sum(axis=1)\n",
    "\n",
    "\n",
    "# Calculate the expense and revenue as a percentage of GDP\n",
    "# Create a boolean mask to check if both 'total' and 'gdp' are not missing for each row\n",
    "valid_exp_indices = df['total_expenditure'].notna() & df['gdp'].notna()\n",
    "valid_rev_indices = df['total_revenue'].notna() & df['gdp'].notna()\n",
    "\n",
    "# Calculate 'total_expense_pct_gdp' and 'total_revenue_pct_gdp' only for rows where both 'total' and 'gdp' are not missing\n",
    "df.loc[valid_exp_indices, 'total_expense_pct_gdp'] = ((df.loc[valid_exp_indices, 'total_expenditure'] / df.loc[valid_exp_indices, 'gdp']) * 100).round(2)\n",
    "df.loc[valid_rev_indices, 'total_revenue_pct_gdp'] = ((df.loc[valid_rev_indices, 'total_revenue'] / df.loc[valid_rev_indices, 'gdp']) * 100).round(2)"
   ]
  },
  {
   "cell_type": "markdown",
   "id": "ba5877a1-0a1b-497e-86cf-1a09b3ac6bab",
   "metadata": {},
   "source": [
    "## Assign Public Finance Trait\n",
    "Each Country has a certain public finance trait\n",
    "https://www.oecd-ilibrary.org/docserver/4d3d8b25-en.pdf?expires=1700814053&id=id&accname=guest&checksum=C108E74662CE152F3313D2CE2EB436FD"
   ]
  },
  {
   "cell_type": "code",
   "execution_count": 28,
   "id": "2296de04-d063-4dbb-ba6a-b18f73089682",
   "metadata": {
    "tags": []
   },
   "outputs": [],
   "source": [
    "# Mapping of ISO 3166-1 alpha-3 codes to group numbers based on the image\n",
    "iso3_to_group = {\n",
    "    'DNK': 1, 'FIN': 1, 'NLD': 1, 'SVN': 1, 'SWE': 1,\n",
    "    'AUT': 2, 'BEL': 2, 'FRA': 2, 'DEU': 2,\n",
    "    'GRC': 3, 'HUN': 3, 'ITA': 3, 'PRT': 3,\n",
    "    'ISL': 4, 'IRL': 4, 'ESP': 4, 'GBR': 4,\n",
    "    'CZE': 5, 'EST': 5, 'POL': 5, 'SVK': 5,\n",
    "    'LUX': 6, 'NOR': 6, 'CHE': 6,\n",
    "    'ISR': 7, 'JPN': 7, 'KOR': 7, 'USA': 7\n",
    "}\n",
    "\n",
    "df['public_finance_trait'] = df['iso3'].map(iso3_to_group)"
   ]
  },
  {
   "cell_type": "markdown",
   "id": "ad853e80-dcab-46f3-a4c3-3374f91a05c1",
   "metadata": {},
   "source": [
    "### Assign Developing Countries"
   ]
  },
  {
   "cell_type": "code",
   "execution_count": 29,
   "id": "741fc6e2-e593-4b22-b12f-52b45fcb3fa7",
   "metadata": {
    "tags": []
   },
   "outputs": [],
   "source": [
    "# List of ISO country codes classified as developing based on common economic indexes\n",
    "developing_countries = ['BGR', 'CHL', 'COL', 'CRI', 'LTU', 'LVA', 'MEX', 'TUR']\n",
    "\n",
    "# Create a new column in the DataFrame, default to 0 (developed)\n",
    "df['developing'] = 0\n",
    "\n",
    "# Set the value to 1 for developing countries based on their country codes\n",
    "df.loc[df['iso3'].isin(developing_countries), 'developing'] = 1"
   ]
  },
  {
   "cell_type": "markdown",
   "id": "0177b71a-82c4-417a-b2f6-cb42669363a3",
   "metadata": {},
   "source": [
    "# Healthcare type\n",
    "Countries not listed under any model include:\n",
    "\n",
    "Australia (AUS)\n",
    "Bulgaria (BGR)\n",
    "Chile (CHL)\n",
    "Colombia (COL)\n",
    "Costa Rica (CRI)\n",
    "Greece (GRC)\n",
    "Hungary (HUN)\n",
    "Ireland (IRL)\n",
    "Iceland (ISL)\n",
    "Israel (ISR)\n",
    "Lithuania (LTU)\n",
    "Luxembourg (LUX)\n",
    "Latvia (LVA)\n",
    "Mexico (MEX)\n",
    "Norway (NOR)\n",
    "Poland (POL)\n",
    "Portugal (PRT)\n",
    "Slovakia (SVK)\n",
    "Slovenia (SVN)\n",
    "Turkey (TUR)\n",
    "United States (USA)"
   ]
  },
  {
   "cell_type": "code",
   "execution_count": null,
   "id": "75917895-b126-43f5-8e5d-9fb687a32199",
   "metadata": {},
   "outputs": [],
   "source": [
    "# Mapping of country codes to healthcare model types\n",
    "# healthcare_model = {\n",
    "#     'GBR': 1, 'ESP': 1, 'ITA': 1, 'DNK': 1, 'SWE': 1, 'FIN': 1, 'NZL': 1,  # Beveridge Model\n",
    "#     'DEU': 2, 'AUT': 2, 'BEL': 2, 'CHE': 2, 'CZE': 2, 'NLD': 2, 'FRA': 2, 'JPN': 2, 'KOR': 2,  # Bismarck Model\n",
    "#     'CAN': 3,  # National Health Insurance Model\n",
    "#     'USA': 4  # Out-of-Pocket Model\n",
    "# }\n",
    "\n",
    "# Assuming 'df' is your DataFrame and it has a column 'country_code' with the ISO country codes\n",
    "# Default to 4 for out-of-pocket model\n",
    "# df['healthcare_model_type'] = df['country_code'].map(healthcare_model).fillna(4).astype(int)"
   ]
  },
  {
   "cell_type": "markdown",
   "id": "b544f865-20d1-4f76-b3e0-f1f4ba6de2bd",
   "metadata": {},
   "source": [
    "# Save CSV"
   ]
  },
  {
   "cell_type": "code",
   "execution_count": 30,
   "id": "1130eacf-d643-4448-840c-1c4464f58679",
   "metadata": {
    "tags": []
   },
   "outputs": [],
   "source": [
    "# Save CSV\n",
    "df.to_csv('oecd_data.csv', index=False)"
   ]
  }
 ],
 "metadata": {
  "kernelspec": {
   "display_name": "Python 3 (ipykernel)",
   "language": "python",
   "name": "python3"
  },
  "language_info": {
   "codemirror_mode": {
    "name": "ipython",
    "version": 3
   },
   "file_extension": ".py",
   "mimetype": "text/x-python",
   "name": "python",
   "nbconvert_exporter": "python",
   "pygments_lexer": "ipython3",
   "version": "3.11.4"
  }
 },
 "nbformat": 4,
 "nbformat_minor": 5
}
