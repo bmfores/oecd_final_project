{
 "cells": [
  {
   "cell_type": "code",
   "execution_count": 30,
   "id": "54b79f16-b0ca-4d5a-bbc7-02e32e06ee69",
   "metadata": {
    "tags": []
   },
   "outputs": [],
   "source": [
    "import pandas as pd\n",
    "import seaborn as sns\n",
    "import matplotlib.pyplot as plt\n",
    "import numpy as np\n",
    "from sklearn.model_selection import train_test_split\n",
    "from sklearn.linear_model import LinearRegression\n",
    "from sklearn.neighbors import KNeighborsRegressor\n",
    "from sklearn.decomposition import PCA\n",
    "from sklearn.model_selection import cross_validate\n",
    "from sklearn.preprocessing import StandardScaler\n",
    "from sklearn.metrics import mean_squared_error, r2_score\n",
    "from sklearn.preprocessing import PolynomialFeatures\n",
    "from sklearn.pipeline import make_pipeline"
   ]
  },
  {
   "cell_type": "code",
   "execution_count": 7,
   "id": "f96ab9cd-9e4e-41fe-ab0b-39a922c78f21",
   "metadata": {
    "tags": []
   },
   "outputs": [],
   "source": [
    "df = pd.read_csv('oecd_data_cleaned.csv')"
   ]
  },
  {
   "cell_type": "code",
   "execution_count": 8,
   "id": "037b598c-3993-4861-a20e-11e678819f42",
   "metadata": {
    "tags": []
   },
   "outputs": [
    {
     "data": {
      "text/html": [
       "<div>\n",
       "<style scoped>\n",
       "    .dataframe tbody tr th:only-of-type {\n",
       "        vertical-align: middle;\n",
       "    }\n",
       "\n",
       "    .dataframe tbody tr th {\n",
       "        vertical-align: top;\n",
       "    }\n",
       "\n",
       "    .dataframe thead th {\n",
       "        text-align: right;\n",
       "    }\n",
       "</style>\n",
       "<table border=\"1\" class=\"dataframe\">\n",
       "  <thead>\n",
       "    <tr style=\"text-align: right;\">\n",
       "      <th></th>\n",
       "      <th>country</th>\n",
       "      <th>region</th>\n",
       "      <th>health_exp_pct_gdp</th>\n",
       "      <th>continent</th>\n",
       "      <th>iso3</th>\n",
       "      <th>year</th>\n",
       "      <th>gdp_per_capita</th>\n",
       "      <th>gdp</th>\n",
       "      <th>gdp_volume_market_prices</th>\n",
       "      <th>cpi</th>\n",
       "      <th>...</th>\n",
       "      <th>other_nonproperty_tax_pct_gdp</th>\n",
       "      <th>property_income_pct_gdp</th>\n",
       "      <th>total_expenditure</th>\n",
       "      <th>total_revenue</th>\n",
       "      <th>total_expense_pct_gdp</th>\n",
       "      <th>total_revenue_pct_gdp</th>\n",
       "      <th>public_finance_trait</th>\n",
       "      <th>developing</th>\n",
       "      <th>life_expectancy_outcome_3</th>\n",
       "      <th>life_expectancy_outcome_5</th>\n",
       "    </tr>\n",
       "  </thead>\n",
       "  <tbody>\n",
       "    <tr>\n",
       "      <th>0</th>\n",
       "      <td>Australia</td>\n",
       "      <td>Oceania</td>\n",
       "      <td>6.467</td>\n",
       "      <td>Oceania</td>\n",
       "      <td>AUS</td>\n",
       "      <td>1990.0</td>\n",
       "      <td>17838.1</td>\n",
       "      <td>4.136590e+11</td>\n",
       "      <td>8.625100e+11</td>\n",
       "      <td>0.494619</td>\n",
       "      <td>...</td>\n",
       "      <td>NaN</td>\n",
       "      <td>1.83</td>\n",
       "      <td>NaN</td>\n",
       "      <td>NaN</td>\n",
       "      <td>NaN</td>\n",
       "      <td>NaN</td>\n",
       "      <td>NaN</td>\n",
       "      <td>0.0</td>\n",
       "      <td>77.9</td>\n",
       "      <td>77.8</td>\n",
       "    </tr>\n",
       "    <tr>\n",
       "      <th>1</th>\n",
       "      <td>Australia</td>\n",
       "      <td>Oceania</td>\n",
       "      <td>6.762</td>\n",
       "      <td>Oceania</td>\n",
       "      <td>AUS</td>\n",
       "      <td>1991.0</td>\n",
       "      <td>18177.5</td>\n",
       "      <td>4.166640e+11</td>\n",
       "      <td>8.510460e+11</td>\n",
       "      <td>0.510977</td>\n",
       "      <td>...</td>\n",
       "      <td>NaN</td>\n",
       "      <td>2.08</td>\n",
       "      <td>NaN</td>\n",
       "      <td>NaN</td>\n",
       "      <td>NaN</td>\n",
       "      <td>NaN</td>\n",
       "      <td>NaN</td>\n",
       "      <td>0.0</td>\n",
       "      <td>77.9</td>\n",
       "      <td>78.1</td>\n",
       "    </tr>\n",
       "    <tr>\n",
       "      <th>2</th>\n",
       "      <td>Australia</td>\n",
       "      <td>Oceania</td>\n",
       "      <td>6.828</td>\n",
       "      <td>Oceania</td>\n",
       "      <td>AUS</td>\n",
       "      <td>1992.0</td>\n",
       "      <td>19157.7</td>\n",
       "      <td>4.323100e+11</td>\n",
       "      <td>8.767390e+11</td>\n",
       "      <td>0.515928</td>\n",
       "      <td>...</td>\n",
       "      <td>NaN</td>\n",
       "      <td>2.28</td>\n",
       "      <td>NaN</td>\n",
       "      <td>NaN</td>\n",
       "      <td>NaN</td>\n",
       "      <td>NaN</td>\n",
       "      <td>NaN</td>\n",
       "      <td>0.0</td>\n",
       "      <td>77.8</td>\n",
       "      <td>78.4</td>\n",
       "    </tr>\n",
       "    <tr>\n",
       "      <th>3</th>\n",
       "      <td>Australia</td>\n",
       "      <td>Oceania</td>\n",
       "      <td>6.844</td>\n",
       "      <td>Oceania</td>\n",
       "      <td>AUS</td>\n",
       "      <td>1993.0</td>\n",
       "      <td>20184.9</td>\n",
       "      <td>4.552010e+11</td>\n",
       "      <td>9.126430e+11</td>\n",
       "      <td>0.524968</td>\n",
       "      <td>...</td>\n",
       "      <td>NaN</td>\n",
       "      <td>2.74</td>\n",
       "      <td>NaN</td>\n",
       "      <td>NaN</td>\n",
       "      <td>NaN</td>\n",
       "      <td>NaN</td>\n",
       "      <td>NaN</td>\n",
       "      <td>0.0</td>\n",
       "      <td>78.1</td>\n",
       "      <td>78.6</td>\n",
       "    </tr>\n",
       "    <tr>\n",
       "      <th>4</th>\n",
       "      <td>Australia</td>\n",
       "      <td>Oceania</td>\n",
       "      <td>6.872</td>\n",
       "      <td>Oceania</td>\n",
       "      <td>AUS</td>\n",
       "      <td>1994.0</td>\n",
       "      <td>21432.8</td>\n",
       "      <td>4.826680e+11</td>\n",
       "      <td>9.559860e+11</td>\n",
       "      <td>0.535084</td>\n",
       "      <td>...</td>\n",
       "      <td>0.66</td>\n",
       "      <td>1.98</td>\n",
       "      <td>NaN</td>\n",
       "      <td>2.124420e+11</td>\n",
       "      <td>NaN</td>\n",
       "      <td>44.01</td>\n",
       "      <td>NaN</td>\n",
       "      <td>0.0</td>\n",
       "      <td>78.4</td>\n",
       "      <td>78.9</td>\n",
       "    </tr>\n",
       "  </tbody>\n",
       "</table>\n",
       "<p>5 rows × 60 columns</p>\n",
       "</div>"
      ],
      "text/plain": [
       "     country   region  health_exp_pct_gdp continent iso3    year  \\\n",
       "0  Australia  Oceania               6.467   Oceania  AUS  1990.0   \n",
       "1  Australia  Oceania               6.762   Oceania  AUS  1991.0   \n",
       "2  Australia  Oceania               6.828   Oceania  AUS  1992.0   \n",
       "3  Australia  Oceania               6.844   Oceania  AUS  1993.0   \n",
       "4  Australia  Oceania               6.872   Oceania  AUS  1994.0   \n",
       "\n",
       "   gdp_per_capita           gdp  gdp_volume_market_prices       cpi  ...  \\\n",
       "0         17838.1  4.136590e+11              8.625100e+11  0.494619  ...   \n",
       "1         18177.5  4.166640e+11              8.510460e+11  0.510977  ...   \n",
       "2         19157.7  4.323100e+11              8.767390e+11  0.515928  ...   \n",
       "3         20184.9  4.552010e+11              9.126430e+11  0.524968  ...   \n",
       "4         21432.8  4.826680e+11              9.559860e+11  0.535084  ...   \n",
       "\n",
       "   other_nonproperty_tax_pct_gdp  property_income_pct_gdp  total_expenditure  \\\n",
       "0                            NaN                     1.83                NaN   \n",
       "1                            NaN                     2.08                NaN   \n",
       "2                            NaN                     2.28                NaN   \n",
       "3                            NaN                     2.74                NaN   \n",
       "4                           0.66                     1.98                NaN   \n",
       "\n",
       "   total_revenue  total_expense_pct_gdp  total_revenue_pct_gdp  \\\n",
       "0            NaN                    NaN                    NaN   \n",
       "1            NaN                    NaN                    NaN   \n",
       "2            NaN                    NaN                    NaN   \n",
       "3            NaN                    NaN                    NaN   \n",
       "4   2.124420e+11                    NaN                  44.01   \n",
       "\n",
       "   public_finance_trait  developing  life_expectancy_outcome_3  \\\n",
       "0                   NaN         0.0                       77.9   \n",
       "1                   NaN         0.0                       77.9   \n",
       "2                   NaN         0.0                       77.8   \n",
       "3                   NaN         0.0                       78.1   \n",
       "4                   NaN         0.0                       78.4   \n",
       "\n",
       "   life_expectancy_outcome_5  \n",
       "0                       77.8  \n",
       "1                       78.1  \n",
       "2                       78.4  \n",
       "3                       78.6  \n",
       "4                       78.9  \n",
       "\n",
       "[5 rows x 60 columns]"
      ]
     },
     "execution_count": 8,
     "metadata": {},
     "output_type": "execute_result"
    }
   ],
   "source": [
    "df.head()"
   ]
  },
  {
   "cell_type": "code",
   "execution_count": 21,
   "id": "af80fb3f-0296-4eea-aa47-2def59eda9b4",
   "metadata": {
    "tags": []
   },
   "outputs": [],
   "source": [
    "# Helper function to store models\n",
    "\n",
    "# List to store the performance metrics of different models\n",
    "model_performance = []\n",
    "\n",
    "def store_model_performance(y_true, y_pred, model_name):\n",
    "    \"\"\"\n",
    "    Function to compute MSE and R-squared for given predictions and actual values,\n",
    "    and store these metrics in a list of dictionaries.\n",
    "\n",
    "    Args:\n",
    "    y_true (array-like): Actual values.\n",
    "    y_pred (array-like): Predicted values from the model.\n",
    "    model_name (str): Name of the model.\n",
    "\n",
    "    Returns:\n",
    "    None: Appends the performance metrics to the global list 'model_performance'.\n",
    "    \"\"\"\n",
    "    mse = mean_squared_error(y_true, y_pred)\n",
    "    r2 = r2_score(y_true, y_pred)\n",
    "    \n",
    "    performance_dict = {\n",
    "        'model_name': model_name,\n",
    "        'mse': mse,\n",
    "        'r2': r2\n",
    "    }\n",
    "\n",
    "    model_performance.append(performance_dict)"
   ]
  },
  {
   "cell_type": "markdown",
   "id": "ffee09ce-15b4-4993-9de1-0890f308f1a9",
   "metadata": {},
   "source": [
    "# Baseline Model"
   ]
  },
  {
   "cell_type": "markdown",
   "id": "efe77a3a-0c20-4c08-b60f-497290738433",
   "metadata": {},
   "source": [
    "## Simple Linear Regression"
   ]
  },
  {
   "cell_type": "code",
   "execution_count": 10,
   "id": "b620674e-a311-4e4c-a4ee-b3bd13f7e47a",
   "metadata": {
    "tags": []
   },
   "outputs": [],
   "source": [
    "# Simple Linear Regression: 'public_health_exp_pct_gdp' vs 'life_expectancy_outcome_3'\n",
    "\n",
    "# Removing rows with NaN values in 'public_health_exp_pct_gdp' and 'life_expectancy_outcome_3'\n",
    "df_cleaned = df.dropna(subset=['public_health_exp_pct_gdp', 'life_expectancy_outcome_3'])\n",
    "\n",
    "# Preparing the data with the cleaned dataframe\n",
    "X_cleaned = df_cleaned[['public_health_exp_pct_gdp']].values\n",
    "y_cleaned = df_cleaned['life_expectancy_outcome_3'].values\n",
    "\n",
    "# Splitting the data into training and testing sets\n",
    "X_train_cleaned, X_test_cleaned, y_train_cleaned, y_test_cleaned = train_test_split(X_cleaned, y_cleaned, test_size=0.2, random_state=0)\n",
    "\n",
    "# Creating and fitting the linear regression model with the cleaned data\n",
    "lr_model_cleaned = LinearRegression()\n",
    "lr_model_cleaned.fit(X_train_cleaned, y_train_cleaned)\n",
    "\n",
    "# Making predictions with the cleaned data\n",
    "y_pred_cleaned = lr_model_cleaned.predict(X_test_cleaned)\n",
    "\n",
    "# Calculating metrics for the cleaned data\n",
    "mse_cleaned = mean_squared_error(y_test_cleaned, y_pred_cleaned)\n",
    "r2_cleaned = r2_score(y_test_cleaned, y_pred_cleaned)"
   ]
  },
  {
   "cell_type": "code",
   "execution_count": 22,
   "id": "a4922b49-7af2-43d3-b52f-070d9a5de15b",
   "metadata": {
    "tags": []
   },
   "outputs": [],
   "source": [
    "# Storing model performance using the custom function\n",
    "store_model_performance(y_test_cleaned, y_pred_cleaned, \"Simple Linear Regression\")"
   ]
  },
  {
   "cell_type": "code",
   "execution_count": 26,
   "id": "bf617251-31c3-43af-b997-c032e710700d",
   "metadata": {
    "tags": []
   },
   "outputs": [
    {
     "name": "stdout",
     "output_type": "stream",
     "text": [
      "[{'model_name': 'Simple Linear Regression', 'mse': 9.235107043166787, 'r2': 0.12124626285332318}]\n"
     ]
    }
   ],
   "source": [
    "print(model_performance)"
   ]
  },
  {
   "cell_type": "code",
   "execution_count": 24,
   "id": "ad1d145a-ce7a-425d-bec1-0239de51f6df",
   "metadata": {
    "tags": []
   },
   "outputs": [
    {
     "data": {
      "image/png": "[encoded data removed]",
      "text/plain": [
       "<Figure size 800x400 with 1 Axes>"
      ]
     },
     "metadata": {},
     "output_type": "display_data"
    }
   ],
   "source": [
    "# Visualizing the Simple Linear Regression: 'public_health_exp_pct_gdp' vs 'life_expectancy_outcome_3'\n",
    "\n",
    "plt.figure(figsize=(8, 4))\n",
    "\n",
    "# Plotting the training data\n",
    "plt.scatter(X_train_cleaned, y_train_cleaned, color='blue', label='Training Data')\n",
    "\n",
    "# Plotting the testing data\n",
    "plt.scatter(X_test_cleaned, y_test_cleaned, color='green', label='Testing Data')\n",
    "\n",
    "# Plotting the regression line\n",
    "line = lr_model_cleaned.coef_[0]*X_cleaned + lr_model_cleaned.intercept_\n",
    "plt.plot(X_cleaned, line, color='red', label='Linear Regression')\n",
    "\n",
    "plt.title('Public Health Expenditure (% GDP) vs Life Expectancy Outcome 3')\n",
    "plt.xlabel('Public Health Expenditure (% of GDP)')\n",
    "plt.ylabel('Life Expectancy Outcome 3')\n",
    "plt.legend()\n",
    "plt.show()"
   ]
  },
  {
   "cell_type": "markdown",
   "id": "d6cf7c38-d7d5-42a9-9141-71b094edebfb",
   "metadata": {},
   "source": [
    "# Multiple Regression"
   ]
  },
  {
   "cell_type": "code",
   "execution_count": 13,
   "id": "daa450d7-49f2-45d9-9371-6da495b11cb0",
   "metadata": {
    "tags": []
   },
   "outputs": [],
   "source": [
    "# Selecting the predictor variables and ensuring there are no NaN values\n",
    "predictors = ['public_health_exp_pct_gdp', 'gdp_per_capita', 'education_exp_pct_gdp']\n",
    "df_cleaned_multiple = df.dropna(subset=predictors + ['life_expectancy_outcome_3'])\n",
    "\n",
    "X_multiple = df_cleaned_multiple[predictors].values\n",
    "y_multiple = df_cleaned_multiple['life_expectancy_outcome_3'].values\n",
    "\n",
    "# Splitting the data into training and testing sets for the multiple regression model\n",
    "X_train_multiple, X_test_multiple, y_train_multiple, y_test_multiple = train_test_split(X_multiple, y_multiple, test_size=0.2, random_state=0)\n",
    "\n",
    "# Creating and fitting the multiple regression model\n",
    "lr_model_multiple = LinearRegression()\n",
    "lr_model_multiple.fit(X_train_multiple, y_train_multiple)\n",
    "\n",
    "# Making predictions with the multiple regression model\n",
    "y_pred_multiple = lr_model_multiple.predict(X_test_multiple)\n",
    "\n",
    "# Calculating metrics for the multiple regression model\n",
    "mse_multiple = mean_squared_error(y_test_multiple, y_pred_multiple)\n",
    "r2_multiple = r2_score(y_test_multiple, y_pred_multiple)"
   ]
  },
  {
   "cell_type": "code",
   "execution_count": 15,
   "id": "454aba37-acb2-4d59-bdd0-4449f7b5fcaf",
   "metadata": {
    "tags": []
   },
   "outputs": [
    {
     "name": "stdout",
     "output_type": "stream",
     "text": [
      "4.080873140630009\n",
      "0.5871031588683342\n"
     ]
    }
   ],
   "source": [
    "print(mse_multiple)\n",
    "print(r2_multiple)"
   ]
  },
  {
   "cell_type": "code",
   "execution_count": 27,
   "id": "cbecdb80-05e6-4cdc-a39b-6a4462e1cd45",
   "metadata": {
    "tags": []
   },
   "outputs": [],
   "source": [
    "# Storing model performance using the custom function\n",
    "store_model_performance(y_test_multiple, y_pred_multiple, \"Multiple Regression\")\n",
    "\n",
    "print(model_performance)"
   ]
  },
  {
   "cell_type": "markdown",
   "id": "cb35fb97-2d38-45eb-9162-fcf42c59ee6e",
   "metadata": {},
   "source": [
    "# Polynomial Regression"
   ]
  },
  {
   "cell_type": "code",
   "execution_count": 32,
   "id": "01dd1c13-0cd6-4073-9fa3-9390d9f6c3e7",
   "metadata": {
    "tags": []
   },
   "outputs": [
    {
     "data": {
      "text/plain": [
       "'Polynomial regression model prepared and evaluated.'"
      ]
     },
     "execution_count": 32,
     "metadata": {},
     "output_type": "execute_result"
    }
   ],
   "source": [
    "# Checking if the selected variables are in the dataset\n",
    "selected_tax_exp_vars = [\n",
    "    'personal_income_tax_pct_gdp', \n",
    "    'corporate_income_tax_pct_gdp',\n",
    "    'social_security_contrib_pct_gdp',\n",
    "    'public_health_exp_pct_gdp',\n",
    "    'education_exp_pct_gdp',\n",
    "    'pensions_exp_pct_gdp'\n",
    "]\n",
    "\n",
    "# Assuming 'life_expectancy' is the response variable\n",
    "response_var = 'life_expectancy'\n",
    "\n",
    "# Check for missing variables in the dataset\n",
    "missing_vars = [var for var in selected_tax_exp_vars + [response_var] if var not in df.columns]\n",
    "\n",
    "# If no variables are missing, proceed to prepare the data for polynomial regression\n",
    "if not missing_vars:\n",
    "    # Dropping rows with NaN in the selected variables and the response variable\n",
    "    df_poly = df.dropna(subset=selected_tax_exp_vars + [response_var])\n",
    "\n",
    "    # Independent variables (tax and expenditure data)\n",
    "    X_poly = df_poly[selected_tax_exp_vars].values\n",
    "\n",
    "    # Dependent variable (life expectancy)\n",
    "    y_poly = df_poly[response_var].values\n",
    "\n",
    "    # Splitting the data into training and testing sets\n",
    "    X_train_poly, X_test_poly, y_train_poly, y_test_poly = train_test_split(X_poly, y_poly, test_size=0.2, random_state=0)\n",
    "\n",
    "    # Creating a polynomial regression model (degree 2 for demonstration)\n",
    "    poly_reg_model = make_pipeline(PolynomialFeatures(degree=4), LinearRegression())\n",
    "\n",
    "    # Fitting the model\n",
    "    poly_reg_model.fit(X_train_poly, y_train_poly)\n",
    "\n",
    "    # Making predictions\n",
    "    y_pred_poly = poly_reg_model.predict(X_test_poly)\n",
    "\n",
    "    # Calculating performance metrics\n",
    "    mse_poly = mean_squared_error(y_test_poly, y_pred_poly)\n",
    "    r2_poly = r2_score(y_test_poly, y_pred_poly)\n",
    "\n",
    "    preparation_status = \"Polynomial regression model prepared and evaluated.\"\n",
    "else:\n",
    "    preparation_status = f\"Missing variables in the dataset: {missing_vars}\"\n",
    "\n",
    "preparation_status"
   ]
  },
  {
   "cell_type": "code",
   "execution_count": 33,
   "id": "1dbfdd2d-8822-4a5d-bc26-a812a3e9631c",
   "metadata": {
    "tags": []
   },
   "outputs": [
    {
     "name": "stdout",
     "output_type": "stream",
     "text": [
      "[{'model_name': 'Simple Linear Regression', 'mse': 9.235107043166787, 'r2': 0.12124626285332318}, {'model_name': 'Multiple Regression', 'mse': 4.080873140630009, 'r2': 0.5871031588683342}, {'model_name': 'Polynomial Regression (4 degrees)', 'mse': 3.96162449735727, 'r2': 0.67101117640279}]\n"
     ]
    }
   ],
   "source": [
    "# Storing model performance using the custom function\n",
    "store_model_performance(y_test_poly, y_pred_poly, \"Polynomial Regression (4 degrees)\")\n",
    "\n",
    "print(model_performance)"
   ]
  },
  {
   "cell_type": "markdown",
   "id": "08f6c5f1-88ee-4da9-b223-a6c0180f1b89",
   "metadata": {},
   "source": [
    "# LASSO Regression"
   ]
  },
  {
   "cell_type": "markdown",
   "id": "a5558d83-578c-4715-9027-ac0533fdf42d",
   "metadata": {},
   "source": [
    "# Ridge Regression"
   ]
  },
  {
   "cell_type": "markdown",
   "id": "54a2e2e1-7ba8-440c-b1a1-5b96f83a82b0",
   "metadata": {},
   "source": [
    "# Others"
   ]
  },
  {
   "cell_type": "markdown",
   "id": "5cdb9620-941b-4593-a65d-92cb4d49e239",
   "metadata": {},
   "source": [
    "# Random Forest"
   ]
  }
 ],
 "metadata": {
  "kernelspec": {
   "display_name": "Python 3 (ipykernel)",
   "language": "python",
   "name": "python3"
  },
  "language_info": {
   "codemirror_mode": {
    "name": "ipython",
    "version": 3
   },
   "file_extension": ".py",
   "mimetype": "text/x-python",
   "name": "python",
   "nbconvert_exporter": "python",
   "pygments_lexer": "ipython3",
   "version": "3.11.4"
  }
 },
 "nbformat": 4,
 "nbformat_minor": 5
}
